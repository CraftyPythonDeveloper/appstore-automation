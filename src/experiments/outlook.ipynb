{
 "cells": [
  {
   "cell_type": "code",
   "execution_count": 1,
   "id": "9b2d6838-fa0c-4234-8a1d-66755ea99c99",
   "metadata": {},
   "outputs": [],
   "source": [
    "signup_url = \"https://signup.live.com/signup\""
   ]
  },
  {
   "cell_type": "code",
   "execution_count": 2,
   "id": "7757f5f9-f663-452a-9e12-63168e2154cc",
   "metadata": {},
   "outputs": [],
   "source": [
    "from seleniumbase import Driver\n",
    "from selenium.webdriver.common.keys import Keys\n"
   ]
  },
  {
   "cell_type": "code",
   "execution_count": 3,
   "id": "3c924d97-04f6-4561-a9b0-52dbc9998559",
   "metadata": {},
   "outputs": [
    {
     "name": "stdout",
     "output_type": "stream",
     "text": [
      "\n",
      "Warning: uc_driver update needed. Getting it now:\n",
      "\n",
      "*** chromedriver to download = 134.0.6998.165 (Latest Stable) \n",
      "\n",
      "Downloading chromedriver-win64.zip from:\n",
      "https://storage.googleapis.com/chrome-for-testing-public/134.0.6998.165/win64/chromedriver-win64.zip ...\n",
      "Download Complete!\n",
      "\n",
      "Extracting ['chromedriver.exe'] from chromedriver-win64.zip ...\n",
      "Unzip Complete!\n",
      "\n",
      "The file [uc_driver.exe] was saved to:\n",
      "C:\\Users\\Anon\\PycharmProjects\\appstore-automation\\.venv\\Lib\\site-packages\\seleniumbase\\drivers\\\n",
      "uc_driver.exe\n",
      "\n",
      "Making [uc_driver.exe 134.0.6998.165] executable ...\n",
      "[uc_driver.exe 134.0.6998.165] is now ready for use!\n",
      "\n"
     ]
    }
   ],
   "source": [
    "sb = Driver(uc=True, extension_dir=r\"C:\\Users\\Amit\\Downloads\\funcaptcha-solver-main\\funcaptcha-solver-main\")"
   ]
  },
  {
   "cell_type": "code",
   "execution_count": 4,
   "id": "d630857f-a532-4d83-8d88-5e4a292a9138",
   "metadata": {},
   "outputs": [],
   "source": [
    "sb.uc_open(signup_url)"
   ]
  },
  {
   "cell_type": "code",
   "execution_count": 8,
   "id": "2fee1995-47ce-49f1-ba93-cc9e4120ff14",
   "metadata": {},
   "outputs": [],
   "source": [
    "sb.type(\"#usernameInput\", \"vaj_uwowito16@outlook.com\")"
   ]
  },
  {
   "cell_type": "code",
   "execution_count": null,
   "id": "96619017-dd55-4954-a58a-55f4e409df70",
   "metadata": {},
   "outputs": [],
   "source": [
    "vaj_uwowito16@mail.com\n",
    "nije_giwiga7@outlook.com\n",
    "kevayo_viga46@aol.com\n",
    "joxevax-ari1@aol.com\n",
    "kusaye-kodo63@hotmail.com\n",
    "hujumu_jugu90@outlook.com\n",
    "filew-opubo43@aol.com\n",
    "fijif_ivapi60@mail.com\n",
    "fita-gaxifa66@yahoo.com\n",
    "juhido_capa22@outlook.com"
   ]
  },
  {
   "cell_type": "code",
   "execution_count": 9,
   "id": "d223fb76-0c74-4878-9b15-7d63e960e6d8",
   "metadata": {},
   "outputs": [],
   "source": [
    "sb.click(\"#nextButton\")"
   ]
  },
  {
   "cell_type": "code",
   "execution_count": 11,
   "id": "09baad12-4c76-4afc-b9d6-3bd5879c8fc5",
   "metadata": {},
   "outputs": [],
   "source": [
    "sb.type(\"#Password\", \"P@ssword012369\")"
   ]
  },
  {
   "cell_type": "code",
   "execution_count": 12,
   "id": "714d1d1f-857b-4df4-a7c1-5697130481d0",
   "metadata": {},
   "outputs": [],
   "source": [
    "sb.click(\"#iOptinEmail\")"
   ]
  },
  {
   "cell_type": "code",
   "execution_count": 13,
   "id": "60f0bac2-61ad-4d1e-96df-761d7205aaee",
   "metadata": {},
   "outputs": [],
   "source": [
    "sb.click(\"#nextButton\")"
   ]
  },
  {
   "cell_type": "code",
   "execution_count": 14,
   "id": "7afeb195-1377-422b-904b-a1a549ddf7c2",
   "metadata": {},
   "outputs": [],
   "source": [
    "\n",
    "sb.type(\"#firstNameInput\", \"Vaj\")\n",
    "sb.type(\"#lastNameInput\", \"ito\")\n"
   ]
  },
  {
   "cell_type": "code",
   "execution_count": 15,
   "id": "eb092dd5-6345-4379-8679-47cd8a9e9119",
   "metadata": {},
   "outputs": [],
   "source": [
    "sb.click(\"#nextButton\")"
   ]
  },
  {
   "cell_type": "code",
   "execution_count": 34,
   "id": "a608d594-b354-4c8a-aecf-856cd815a61e",
   "metadata": {},
   "outputs": [],
   "source": [
    "sb.click(\"#BirthMonth\")"
   ]
  },
  {
   "cell_type": "code",
   "execution_count": 39,
   "id": "0bd1a094-8cc3-4378-a74e-7efaf725c952",
   "metadata": {},
   "outputs": [],
   "source": [
    "sb.find_element(\"#BirthMonth\").send_keys(Keys.ARROW_DOWN)"
   ]
  },
  {
   "cell_type": "code",
   "execution_count": 40,
   "id": "849503bc-6e7c-49ec-a447-a5c589df0cc4",
   "metadata": {},
   "outputs": [],
   "source": [
    "sb.find_element(\"#BirthMonth\").send_keys(Keys.ENTER)"
   ]
  },
  {
   "cell_type": "code",
   "execution_count": 42,
   "id": "83eaa845-70eb-42f0-8429-95eecdf6ecf1",
   "metadata": {},
   "outputs": [],
   "source": [
    "sb.find_element(\"#BirthDay\").send_keys(Keys.ARROW_DOWN)\n",
    "sb.find_element(\"#BirthDay\").send_keys(Keys.ENTER)"
   ]
  },
  {
   "cell_type": "code",
   "execution_count": 43,
   "id": "63fcd0b3-11d7-424f-83cd-a6c69468f0d4",
   "metadata": {},
   "outputs": [],
   "source": [
    "sb.find_element(\"#BirthYear\").send_keys(Keys.ARROW_DOWN)\n",
    "sb.find_element(\"#BirthYear\").send_keys(Keys.ENTER)"
   ]
  },
  {
   "cell_type": "code",
   "execution_count": 45,
   "id": "6d11f519-fe88-4cb7-bc4f-02a6ca3e47ea",
   "metadata": {},
   "outputs": [],
   "source": [
    "sb.uc_gui_click_captcha()"
   ]
  },
  {
   "cell_type": "code",
   "execution_count": 26,
   "id": "52a66f2c-45cc-4d0a-a871-f70099f9c2de",
   "metadata": {},
   "outputs": [],
   "source": [
    "from twocaptcha import TwoCaptcha"
   ]
  },
  {
   "cell_type": "code",
   "execution_count": 27,
   "id": "08e7f83a-408c-4027-a6e3-a8190ea18717",
   "metadata": {},
   "outputs": [],
   "source": [
    "solver = TwoCaptcha('d5fe6eb948a95f61dec4edee368083ad')\n"
   ]
  },
  {
   "cell_type": "code",
   "execution_count": 31,
   "id": "11ad24e4-afca-4b40-847f-976da17e8a2d",
   "metadata": {},
   "outputs": [
    {
     "data": {
      "text/plain": [
       "{'captchaId': '78482089623',\n",
       " 'code': '567181a5bd349cd66.3180837901|r=us-east-1|lang=en|pk=DF9C4D87-CB7B-4062-9FEB-BADB6ADA61E6|at=40|ag=101|cdn_url=https%3A%2F%2Ffuncaptcha.com%2Fcdn%2Ffc|surl=https%3A%2F%2Ffuncaptcha.com|smurl=https%3A%2F%2Ffuncaptcha.com%2Fcdn%2Ffc%2Fassets%2Fstyle-manager'}"
      ]
     },
     "execution_count": 31,
     "metadata": {},
     "output_type": "execute_result"
    }
   ],
   "source": [
    "url = \"https://demo.arkoselabs.com/?key=DF9C4D87-CB7B-4062-9FEB-BADB6ADA61E6\"\n",
    "a = solver.funcaptcha(sitekey=\"DF9C4D87-CB7B-4062-9FEB-BADB6ADA61E6\", url=url, proxy={'type': 'HTTPS', 'uri': proxy})\n",
    "a"
   ]
  },
  {
   "cell_type": "code",
   "execution_count": 37,
   "id": "74ef0c2f-4939-46b3-b4a1-3a9f2475c9e7",
   "metadata": {},
   "outputs": [],
   "source": [
    "driver.execute_script(\n",
    "                'parent.postMessage(JSON.stringify({eventId:\"challenge-complete\",payload:{sessionToken:\"' + a[\"code\"] + '\"}}),\"*\")')"
   ]
  },
  {
   "cell_type": "code",
   "execution_count": 1,
   "id": "b6019268-0cad-46fe-ac87-5dfeb5856c61",
   "metadata": {},
   "outputs": [],
   "source": [
    "# Specify the proxy server\n",
    "from seleniumbase import Driver\n",
    "\n",
    "\n",
    "username = \"customer-webart_8fOBF-cc-CA\"\n",
    "password = \"Password007_\"\n",
    "ip = \"pr.oxylabs.io\"\n",
    "port = \"7777\"\n",
    "\n",
    "proxy = f\"{username}:{password}@{ip}:{port}\"\n",
    "# Add proxy options\n",
    "chrome_options = {\n",
    "\"proxy\": {\n",
    "\"httpProxy\": proxy,\n",
    "\"sslProxy\": proxy,\n",
    "\"proxyType\": \"MANUAL\",\n",
    "}\n",
    "}\n",
    "\n",
    "sb = Driver(uc=True,  proxy=proxy)\n",
    "# Open the browser with proxy settings\n"
   ]
  },
  {
   "cell_type": "code",
   "execution_count": 5,
   "id": "c428a373-3f4b-4d97-b925-ef922afeb921",
   "metadata": {},
   "outputs": [],
   "source": [
    "sb.open(\"https://bot.sannysoft.com\")"
   ]
  },
  {
   "cell_type": "code",
   "execution_count": 30,
   "id": "1f737096-661a-42a2-b7ba-73b31cfdd895",
   "metadata": {},
   "outputs": [],
   "source": [
    "sb.refresh()"
   ]
  },
  {
   "cell_type": "code",
   "execution_count": 28,
   "id": "28009ba0-fb38-47aa-9dde-b8fe9f5c165c",
   "metadata": {},
   "outputs": [],
   "source": [
    "sb.switch_to_default_window()"
   ]
  },
  {
   "cell_type": "code",
   "execution_count": 32,
   "id": "68717ad2-ad0d-4895-85b2-d7f0ac5ac846",
   "metadata": {},
   "outputs": [],
   "source": [
    "sb.get(sb.get_attribute(\"//a[@aria-label='New to Amazon? Start here to create an account']\", \"href\", by=\"xpath\"))"
   ]
  },
  {
   "cell_type": "code",
   "execution_count": 4,
   "id": "92660d02-9ce0-45b4-b18a-c46b20ab1158",
   "metadata": {},
   "outputs": [],
   "source": [
    "from selenium.webdriver.common.by import By\n",
    "\n",
    "sb.find_element(By.XPATH, \"//div[@class='a-section country-picker']\").click()"
   ]
  },
  {
   "cell_type": "code",
   "execution_count": 40,
   "id": "338c4a22-7845-4fa6-a223-a074f29173c4",
   "metadata": {},
   "outputs": [
    {
     "data": {
      "text/plain": [
       "'Afghanistan +93'"
      ]
     },
     "execution_count": 40,
     "metadata": {},
     "output_type": "execute_result"
    }
   ],
   "source": [
    "sb.find_element(By.XPATH, \"//li[@aria-labelledby='auth-country-picker_0']\").text"
   ]
  },
  {
   "cell_type": "code",
   "execution_count": 44,
   "id": "4fddfe56-fb09-449a-8baa-c9edde796d9d",
   "metadata": {},
   "outputs": [],
   "source": [
    "for i in sb.find_elements(By.TAG_NAME, \"a\"):\n",
    "    if i.text.lower().startswith(\"canada\"):\n",
    "        i.click()"
   ]
  },
  {
   "cell_type": "code",
   "execution_count": 15,
   "id": "5c840b8a-6761-47e3-9596-9fddc20c1553",
   "metadata": {},
   "outputs": [],
   "source": [
    "link = sb.get_attribute(\"//a[span[text()='Account']]\", \"href\", \"xpath\")\n",
    "\n",
    "sb.get(link)"
   ]
  },
  {
   "cell_type": "code",
   "execution_count": 14,
   "id": "c270fb6b-4d7c-4e91-b1a2-0ecdc49b0b9e",
   "metadata": {},
   "outputs": [
    {
     "name": "stdout",
     "output_type": "stream",
     "text": [
      "Not found\n"
     ]
    }
   ],
   "source": [
    "from selenium.common.exceptions import NoSuchElementException\n",
    "\n",
    "try:\n",
    "    sb.find_element(By.ID, \"nav-link-accountList-nav-line-1w\")\n",
    "except NoSuchElementException:\n",
    "    print(\"Not found\")"
   ]
  },
  {
   "cell_type": "code",
   "execution_count": 18,
   "id": "29b0b8d2-7ab2-447a-a8c7-c3496634316e",
   "metadata": {},
   "outputs": [],
   "source": [
    "sb.find_element(By.XPATH, \"//div[@data-card-identifier='SignInAndSecurity_C']\").click()"
   ]
  },
  {
   "cell_type": "code",
   "execution_count": 44,
   "id": "ccc7748f-6ac6-4f6d-8ed2-90c7f96cb462",
   "metadata": {},
   "outputs": [],
   "source": [
    "sb.type(\"#ap_password\", \"@Test2025\")"
   ]
  },
  {
   "cell_type": "code",
   "execution_count": 45,
   "id": "8266deb5-560e-4db4-a560-1e4b50249c33",
   "metadata": {},
   "outputs": [],
   "source": [
    "sb.find_element(By.ID, \"signInSubmit\").click()"
   ]
  },
  {
   "cell_type": "code",
   "execution_count": 55,
   "id": "df824650-6469-4c0c-a313-7957e2f4501c",
   "metadata": {},
   "outputs": [],
   "source": [
    "sb.click_link(\"Turn on\")"
   ]
  },
  {
   "cell_type": "code",
   "execution_count": 56,
   "id": "c49121a2-70e2-4e07-8a0a-3775cb123f86",
   "metadata": {},
   "outputs": [],
   "source": [
    "sb.click(\"#sia-otp-accordion-totp-header\")"
   ]
  },
  {
   "cell_type": "code",
   "execution_count": 57,
   "id": "a0957f96-7561-4896-81d3-fe23757967c2",
   "metadata": {},
   "outputs": [],
   "source": [
    "sb.click_link(\"Can't scan the barcode?\")"
   ]
  },
  {
   "cell_type": "code",
   "execution_count": 58,
   "id": "ae8dbeeb-ad67-4412-93df-7c8b9371dcd7",
   "metadata": {},
   "outputs": [],
   "source": [
    "totp = sb.get_text(\"#sia-auth-app-formatted-secret\")\n",
    "totp = totp.replace(\" \", \"\")"
   ]
  },
  {
   "cell_type": "code",
   "execution_count": 59,
   "id": "314af552-4185-4770-a3d2-191673c48566",
   "metadata": {},
   "outputs": [
    {
     "data": {
      "text/plain": [
       "'940041'"
      ]
     },
     "execution_count": 59,
     "metadata": {},
     "output_type": "execute_result"
    }
   ],
   "source": [
    "import pyotp\n",
    "\n",
    "pyotp.TOTP(totp).now()"
   ]
  },
  {
   "cell_type": "code",
   "execution_count": 60,
   "id": "27ac4174-9c52-4428-9500-14923fed112a",
   "metadata": {},
   "outputs": [],
   "source": [
    "class AmazonProfilePageSelectors:\n",
    "    ACCOUNT = \"//div[@id='nav-al-your-account']\"\n",
    "    LOGIN_SECURITY = \"//div[@data-card-identifier='SignInAndSecurity_C']\"\n",
    "    PASSWORD_INPUT = \"#ap_password\"\n",
    "    PASSWORD_SUBMIT = \"signInSubmit\"\n",
    "    MFA_LINK_TEXT = \"Turn on\"\n",
    "    AUTHENTICATOR_RADIO = \"#sia-otp-accordion-totp-header\"\n",
    "    SCAN_BARCODE_LINK_TEXT = \"Can't scan the barcode?\"\n",
    "    MFA_SECRET_KEY = \"#sia-auth-app-formatted-secret\"\n",
    "    TOTP_INPUT = \"#ch-auth-app-code-input\"\n",
    "    VERIFY_TOTP_BUTTON = \"#ch-auth-app-submit\"\n"
   ]
  },
  {
   "cell_type": "code",
   "execution_count": 61,
   "id": "85b94841-0997-4e5c-bdc9-d58373f4b563",
   "metadata": {},
   "outputs": [],
   "source": [
    "sb.click(\"#ch-auth-app-code-input\")\n",
    "sb.type(\"#ch-auth-app-code-input\", pyotp.TOTP(totp).now())"
   ]
  },
  {
   "cell_type": "code",
   "execution_count": 62,
   "id": "701ca3c6-259b-4ced-88e6-6ff91f155ba4",
   "metadata": {},
   "outputs": [],
   "source": [
    "sb.click(AmazonProfilePageSelectors.VERIFY_TOTP_BUTTON)"
   ]
  },
  {
   "cell_type": "code",
   "execution_count": 63,
   "id": "d0ea288c-c9c9-4bd7-b071-5a104c9c0f4f",
   "metadata": {},
   "outputs": [],
   "source": [
    "sb.click(\"#enable-mfa-form-submit\")"
   ]
  },
  {
   "cell_type": "code",
   "execution_count": null,
   "id": "46829497-0e8d-4d1d-b8d5-6a09eb17ab41",
   "metadata": {},
   "outputs": [],
   "source": []
  },
  {
   "cell_type": "code",
   "execution_count": null,
   "id": "b9a5f579-39fb-4005-ae9b-db12d7c6bba0",
   "metadata": {},
   "outputs": [],
   "source": [
    "sb = Driver(uc=True, extension_dir=r\"C:\\Users\\Amit\\Downloads\\funcaptcha-solver-main\\funcaptcha-solver-main\")\n"
   ]
  },
  {
   "cell_type": "code",
   "execution_count": 25,
   "id": "7edc84b5-c626-4821-9e1f-b3c61d14ff1f",
   "metadata": {},
   "outputs": [],
   "source": [
    "driver.get(\"https://demo.arkoselabs.com/?key=DF9C4D87-CB7B-4062-9FEB-BADB6ADA61E6\")"
   ]
  },
  {
   "cell_type": "code",
   "execution_count": 14,
   "id": "d3452d43-3bbc-4638-b755-ac57c607261e",
   "metadata": {},
   "outputs": [],
   "source": [
    "# capsolver\n",
    "\n",
    "\"webart.hamime@gmail.com\"\n",
    "\n",
    "import capsolver"
   ]
  },
  {
   "cell_type": "code",
   "execution_count": 15,
   "id": "b4a9cd2f-a406-4b7a-89d5-ebc9017d9a52",
   "metadata": {},
   "outputs": [
    {
     "ename": "InvalidRequestError",
     "evalue": "InvalidRequestError: clientKey is required",
     "output_type": "error",
     "traceback": [
      "\u001b[1;31m---------------------------------------------------------------------------\u001b[0m",
      "\u001b[1;31mInvalidRequestError\u001b[0m                       Traceback (most recent call last)",
      "Cell \u001b[1;32mIn[15], line 7\u001b[0m\n\u001b[0;32m      4\u001b[0m \u001b[38;5;28;01mimport\u001b[39;00m\u001b[38;5;250m \u001b[39m\u001b[38;5;21;01mcapsolver\u001b[39;00m\n\u001b[0;32m      6\u001b[0m \u001b[38;5;66;03m# capsolver.api_key = \"...\"\u001b[39;00m\n\u001b[1;32m----> 7\u001b[0m solution \u001b[38;5;241m=\u001b[39m \u001b[43mcapsolver\u001b[49m\u001b[38;5;241;43m.\u001b[39;49m\u001b[43msolve\u001b[49m\u001b[43m(\u001b[49m\u001b[43m{\u001b[49m\n\u001b[0;32m      8\u001b[0m \u001b[43m    \u001b[49m\u001b[38;5;124;43m\"\u001b[39;49m\u001b[38;5;124;43mtype\u001b[39;49m\u001b[38;5;124;43m\"\u001b[39;49m\u001b[43m:\u001b[49m\u001b[43m \u001b[49m\u001b[38;5;124;43m\"\u001b[39;49m\u001b[38;5;124;43mFunCaptchaTask\u001b[39;49m\u001b[38;5;124;43m\"\u001b[39;49m\u001b[43m,\u001b[49m\n\u001b[0;32m      9\u001b[0m \u001b[43m    \u001b[49m\u001b[38;5;124;43m\"\u001b[39;49m\u001b[38;5;124;43mwebsitePublicKey\u001b[39;49m\u001b[38;5;124;43m\"\u001b[39;49m\u001b[43m:\u001b[49m\u001b[43m \u001b[49m\u001b[38;5;124;43m\"\u001b[39;49m\u001b[38;5;124;43mDF9C4D87-CB7B-4062-9FEB-BADB6ADA61E6\u001b[39;49m\u001b[38;5;124;43m\"\u001b[39;49m\u001b[43m,\u001b[49m\n\u001b[0;32m     10\u001b[0m \u001b[43m    \u001b[49m\u001b[38;5;124;43m\"\u001b[39;49m\u001b[38;5;124;43mwebsiteURL\u001b[39;49m\u001b[38;5;124;43m\"\u001b[39;49m\u001b[43m:\u001b[49m\u001b[43m \u001b[49m\u001b[38;5;124;43m\"\u001b[39;49m\u001b[38;5;124;43mhttps://demo.arkoselabs.com/?key=DF9C4D87-CB7B-4062-9FEB-BADB6ADA61E6\u001b[39;49m\u001b[38;5;124;43m\"\u001b[39;49m\u001b[43m,\u001b[49m\n\u001b[0;32m     11\u001b[0m \u001b[43m}\u001b[49m\u001b[43m)\u001b[49m\n",
      "File \u001b[1;32m~\\PycharmProjects\\appstore-automation\\.venv\\lib\\site-packages\\capsolver\\capsolver.py:39\u001b[0m, in \u001b[0;36mCapsolver.solve\u001b[1;34m(cls, params)\u001b[0m\n\u001b[0;32m     37\u001b[0m r \u001b[38;5;241m=\u001b[39m \u001b[38;5;28mcls\u001b[39m\u001b[38;5;241m.\u001b[39mpostTask(params)\n\u001b[0;32m     38\u001b[0m \u001b[38;5;28;01mif\u001b[39;00m \u001b[38;5;28misinstance\u001b[39m(r, capsolver\u001b[38;5;241m.\u001b[39merror\u001b[38;5;241m.\u001b[39mCapsolverError):\n\u001b[1;32m---> 39\u001b[0m     \u001b[38;5;28;01mraise\u001b[39;00m r\n\u001b[0;32m     40\u001b[0m \u001b[38;5;28;01mif\u001b[39;00m r[\u001b[38;5;124m'\u001b[39m\u001b[38;5;124mstatus\u001b[39m\u001b[38;5;124m'\u001b[39m]\u001b[38;5;241m==\u001b[39m\u001b[38;5;124m\"\u001b[39m\u001b[38;5;124mready\u001b[39m\u001b[38;5;124m\"\u001b[39m:\n\u001b[0;32m     41\u001b[0m     \u001b[38;5;28;01mreturn\u001b[39;00m r[\u001b[38;5;124m'\u001b[39m\u001b[38;5;124msolution\u001b[39m\u001b[38;5;124m'\u001b[39m]\n",
      "\u001b[1;31mInvalidRequestError\u001b[0m: InvalidRequestError: clientKey is required"
     ]
    }
   ],
   "source": [
    "# pip install --upgrade capsolver\n",
    "# export CAPSOLVER_API_KEY='...'\n",
    "\n",
    "import capsolver\n",
    "\n",
    "# capsolver.api_key = \"...\"\n",
    "solution = capsolver.solve({\n",
    "    \"type\": \"FunCaptchaTask\",\n",
    "    \"websitePublicKey\": \"DF9C4D87-CB7B-4062-9FEB-BADB6ADA61E6\",\n",
    "    \"websiteURL\": \"https://demo.arkoselabs.com/?key=DF9C4D87-CB7B-4062-9FEB-BADB6ADA61E6\",\n",
    "})"
   ]
  },
  {
   "cell_type": "code",
   "execution_count": 22,
   "id": "12117efe-454a-44ee-84f9-ddc9b07f9b57",
   "metadata": {},
   "outputs": [
    {
     "ename": "KeyError",
     "evalue": "'taskId'",
     "output_type": "error",
     "traceback": [
      "\u001b[1;31m---------------------------------------------------------------------------\u001b[0m",
      "\u001b[1;31mKeyError\u001b[0m                                  Traceback (most recent call last)",
      "Cell \u001b[1;32mIn[22], line 15\u001b[0m\n\u001b[0;32m      2\u001b[0m payload \u001b[38;5;241m=\u001b[39m {\n\u001b[0;32m      3\u001b[0m         \u001b[38;5;124m\"\u001b[39m\u001b[38;5;124mclientKey\u001b[39m\u001b[38;5;124m\"\u001b[39m:\u001b[38;5;124m\"\u001b[39m\u001b[38;5;124mCAP-7628A5F94B1A15C5402705CE5466178766C9342A9491739C79BA2DBDD4D35ECB\u001b[39m\u001b[38;5;124m\"\u001b[39m,\n\u001b[0;32m      4\u001b[0m         \u001b[38;5;124m\"\u001b[39m\u001b[38;5;124mappId\u001b[39m\u001b[38;5;124m\"\u001b[39m:\u001b[38;5;124m\"\u001b[39m\u001b[38;5;124m8C7C8A1B-0404-4E00-80C8-1C05A569CB57\u001b[39m\u001b[38;5;124m\"\u001b[39m,\n\u001b[1;32m   (...)\u001b[0m\n\u001b[0;32m     11\u001b[0m         }\n\u001b[0;32m     12\u001b[0m         }\n\u001b[0;32m     14\u001b[0m result \u001b[38;5;241m=\u001b[39m requests\u001b[38;5;241m.\u001b[39mpost(\u001b[38;5;124m\"\u001b[39m\u001b[38;5;124mhttps://api.capsolver.com/createTask\u001b[39m\u001b[38;5;124m\"\u001b[39m, json\u001b[38;5;241m=\u001b[39mpayload)\n\u001b[1;32m---> 15\u001b[0m task_id \u001b[38;5;241m=\u001b[39m \u001b[43mresult\u001b[49m\u001b[38;5;241;43m.\u001b[39;49m\u001b[43mjson\u001b[49m\u001b[43m(\u001b[49m\u001b[43m)\u001b[49m\u001b[43m[\u001b[49m\u001b[38;5;124;43m\"\u001b[39;49m\u001b[38;5;124;43mtaskId\u001b[39;49m\u001b[38;5;124;43m\"\u001b[39;49m\u001b[43m]\u001b[49m\n",
      "\u001b[1;31mKeyError\u001b[0m: 'taskId'"
     ]
    }
   ],
   "source": [
    "import requests\n",
    "payload = {\n",
    "        \"clientKey\":\"CAP-7628A5F94B1A15C5402705CE5466178766C9342A9491739C79BA2DBDD4D35ECB\",\n",
    "        \"appId\":\"8C7C8A1B-0404-4E00-80C8-1C05A569CB57\",\n",
    "        \"task\": {\n",
    "            \"type\": \"FunCaptchaTaskProxyLess\",\n",
    "            \"websitePublicKey\": \"B7D8911C-5CC8-A9A3-35B0-554ACEE604DA\",\n",
    "            \"websiteURL\": \"https://demo.arkoselabs.com/?key=DF9C4D87-CB7B-4062-9FEB-BADB6ADA61E6\",\n",
    "            # \"data\": '{\"blob\": \"' + arkoseBlob + '\"}',\n",
    "            #\"proxy\": proxy\n",
    "        }\n",
    "        }\n",
    "\n",
    "result = requests.post(\"https://api.capsolver.com/createTask\", json=payload)\n",
    "task_id = result.json()[\"taskId\"]\n"
   ]
  },
  {
   "cell_type": "code",
   "execution_count": 23,
   "id": "f4d53d55-3ff2-4e84-993b-4233b5407f78",
   "metadata": {},
   "outputs": [
    {
     "data": {
      "text/plain": [
       "'{\"errorCode\":\"ERROR_INVALID_TASK_DATA\",\"errorDescription\":\"invalid task data: this service is currently undergoing maintenance due to instability. please stay tuned to our latest update logs\",\"errorId\":1}'"
      ]
     },
     "execution_count": 23,
     "metadata": {},
     "output_type": "execute_result"
    }
   ],
   "source": [
    "result.text"
   ]
  },
  {
   "cell_type": "code",
   "execution_count": 9,
   "id": "0b00332f-f235-4fa0-9725-cc75d27889f3",
   "metadata": {},
   "outputs": [
    {
     "name": "stdout",
     "output_type": "stream",
     "text": [
      "{\"data\":{\"service\":\"amazon\",\"favorite_services\":[{\"count\":9999,\"slug\":\"amazon\",\"name\":\"Amazon\",\"favorite\":true,\"enabled\":true},{\"count\":9999,\"slug\":\"microsoft\",\"name\":\"Microsoft\",\"favorite\":true,\"enabled\":true},{\"count\":9999,\"slug\":\"whatsapp\",\"name\":\"WhatsApp\",\"favorite\":true,\"enabled\":true}],\"services\":[{\"count\":9999,\"slug\":\"vkcom\",\"name\":\"VKontakte + Mail.ru\",\"favorite\":false,\"enabled\":true},{\"count\":9999,\"slug\":\"3223\",\"name\":\"Facebook\",\"favorite\":false,\"enabled\":true},{\"count\":9999,\"slug\":\"odklru\",\"name\":\"Odnoklassniki\",\"favorite\":false,\"enabled\":true},{\"count\":9999,\"slug\":\"google\",\"name\":\"Google (Youtube, Gmail)\",\"favorite\":false,\"enabled\":true},{\"count\":9999,\"slug\":\"yandex\",\"name\":\"Yandeks\",\"favorite\":false,\"enabled\":true},{\"count\":9999,\"slug\":\"youla\",\"name\":\"Yula\",\"favorite\":false,\"enabled\":true},{\"count\":9999,\"slug\":\"viber\",\"name\":\"Viber\",\"favorite\":false,\"enabled\":true},{\"count\":9999,\"slug\":\"telegram\",\"name\":\"Telegram\",\"favorite\":false,\"enabled\":true},{\"count\":9999,\"slug\":\"fastfriend\",\"name\":\"DrugVokrug\",\"favorite\":false,\"enabled\":true},{\"count\":9999,\"slug\":\"icq\",\"name\":\"ICQ\",\"favorite\":false,\"enabled\":true},{\"count\":9999,\"slug\":\"instagram\",\"name\":\"Instagram\",\"favorite\":false,\"enabled\":true},{\"count\":9999,\"slug\":\"wechat\",\"name\":\"WeChat\",\"favorite\":false,\"enabled\":true},{\"count\":9999,\"slug\":\"steam\",\"name\":\"Steam\",\"favorite\":false,\"enabled\":true},{\"count\":9999,\"slug\":\"uber\",\"name\":\"Uber\",\"favorite\":false,\"enabled\":true},{\"count\":9999,\"slug\":\"seosprint\",\"name\":\"Seosprint\",\"favorite\":false,\"enabled\":true},{\"count\":9999,\"slug\":\"twitter\",\"name\":\"Twitter|X\",\"favorite\":false,\"enabled\":true},{\"count\":9999,\"slug\":\"gett\",\"name\":\"Gett\",\"favorite\":false,\"enabled\":true},{\"count\":9999,\"slug\":\"olx\",\"name\":\"OLX\",\"favorite\":false,\"enabled\":true},{\"count\":9999,\"slug\":\"meetme\",\"name\":\"MeetMe\",\"favorite\":false,\"enabled\":true},{\"count\":9999,\"slug\":\"linemessenger\",\"name\":\"LINE\",\"favorite\":false,\"enabled\":true}],\"favorite_countries\":[{\"name\":\"Kazakhstan\",\"original\":\"kazakhstan\",\"code\":77,\"new\":false,\"enabled\":true,\"count\":9999,\"price\":0.059999999999999998,\"favorite\":true,\"data\":1739710986,\"quality\":-0.40000000000000002},{\"name\":\"Cameroon\",\"original\":\"cameroon\",\"code\":237,\"new\":false,\"enabled\":true,\"count\":2441,\"price\":0.10000000000000001,\"favorite\":true,\"data\":1739710986,\"quality\":-0.10000000000000001},{\"name\":\"France\",\"original\":\"france\",\"code\":33,\"new\":false,\"enabled\":true,\"count\":9999,\"price\":0.69999999999999996,\"favorite\":true,\"data\":1739710986,\"quality\":-0.10000000000000001},{\"name\":\"Philippines\",\"original\":\"philippines\",\"code\":63,\"new\":false,\"enabled\":true,\"count\":9999,\"price\":0.85999999999999999,\"favorite\":true,\"data\":1739710986,\"quality\":-0.60000000000000009},{\"name\":\"Indonesia\",\"original\":\"indonesia\",\"code\":62,\"new\":false,\"enabled\":true,\"count\":9999,\"price\":0.14999999999999999,\"favorite\":true,\"data\":1739710986,\"quality\":0},{\"name\":\"Sweden\",\"original\":\"sweden\",\"code\":46,\"new\":false,\"enabled\":true,\"count\":9082,\"price\":0.13,\"favorite\":true,\"data\":1739710986,\"quality\":0.30000000000000004}],\"countries\":{\"0\":{\"name\":\"Russia\",\"original\":\"russia\",\"code\":7,\"new\":false,\"enabled\":true,\"count\":9999,\"price\":0.19,\"favorite\":false,\"data\":1739710986,\"quality\":0},\"1\":{\"name\":\"Ukraine\",\"original\":\"ukraine\",\"code\":380,\"new\":false,\"enabled\":true,\"count\":9999,\"price\":0.57999999999999996,\"favorite\":false,\"data\":1739710986,\"quality\":0},\"2\":{\"name\":\"Germany\",\"original\":\"germany\",\"code\":49,\"new\":false,\"enabled\":true,\"count\":9999,\"price\":0.95999999999999996,\"favorite\":false,\"data\":1739710986,\"quality\":-0.40000000000000002},\"3\":{\"name\":\"Britain\",\"original\":\"united_kingdom\",\"code\":44,\"new\":false,\"enabled\":true,\"count\":9999,\"price\":0.68000000000000005,\"favorite\":false,\"data\":1739710986,\"quality\":0},\"4\":{\"name\":\"Spain\",\"original\":\"spain\",\"code\":34,\"new\":false,\"enabled\":true,\"count\":9999,\"price\":0.57999999999999996,\"favorite\":false,\"data\":1739710986,\"quality\":0},\"5\":{\"name\":\"USA\",\"original\":\"usa\",\"code\":1,\"new\":false,\"enabled\":true,\"count\":9999,\"price\":1.3700000000000001,\"favorite\":false,\"data\":1739710986,\"quality\":0},\"6\":{\"name\":\"Poland\",\"original\":\"poland\",\"code\":48,\"new\":false,\"enabled\":true,\"count\":9999,\"price\":1.5900000000000001,\"favorite\":false,\"data\":1739710986,\"quality\":-0.10000000000000001},\"7\":{\"name\":\"Netherlands\",\"original\":\"netherlands\",\"code\":31,\"new\":false,\"enabled\":true,\"count\":9999,\"price\":0.37,\"favorite\":false,\"data\":1739710986,\"quality\":0},\"8\":{\"name\":\"Bulgaria\",\"original\":\"bulgaria\",\"code\":359,\"new\":true,\"enabled\":true,\"count\":9999,\"price\":1.4399999999999999,\"favorite\":false,\"data\":1739710986,\"quality\":0},\"9\":{\"name\":\"Morocco\",\"original\":\"morocco\",\"code\":212,\"new\":true,\"enabled\":true,\"count\":9999,\"price\":0.28000000000000003,\"favorite\":false,\"data\":1739710986,\"quality\":0},\"10\":{\"name\":\"India\",\"original\":\"india\",\"code\":91,\"new\":true,\"enabled\":true,\"count\":9999,\"price\":0.29999999999999999,\"favorite\":false,\"data\":1739710986,\"quality\":0},\"11\":{\"name\":\"Denmark\",\"original\":\"denmark\",\"code\":45,\"new\":false,\"enabled\":true,\"count\":9999,\"price\":0.69999999999999996,\"favorite\":false,\"data\":1739710986,\"quality\":0},\"12\":{\"name\":\"Portugal\",\"original\":\"portugal\",\"code\":351,\"new\":false,\"enabled\":true,\"count\":9999,\"price\":0.68000000000000005,\"favorite\":false,\"data\":1739710986,\"quality\":0},\"13\":{\"name\":\"Cyprus\",\"original\":\"cyprus\",\"code\":357,\"new\":false,\"enabled\":true,\"count\":9999,\"price\":0.37,\"favorite\":false,\"data\":1739710986,\"quality\":0},\"14\":{\"name\":\"Canada Virtual\",\"original\":\"canada\",\"code\":1000,\"new\":false,\"enabled\":true,\"count\":9999,\"price\":0.10000000000000001,\"favorite\":false,\"data\":1739710986,\"quality\":0},\"15\":{\"name\":\"Czech\",\"original\":\"czech\",\"code\":420,\"new\":false,\"enabled\":true,\"count\":9999,\"price\":0.87,\"favorite\":false,\"data\":1739710986,\"quality\":0.10000000000000001},\"16\":{\"name\":\"Romania\",\"original\":\"romania\",\"code\":40,\"new\":false,\"enabled\":true,\"count\":9999,\"price\":1.1499999999999999,\"favorite\":false,\"data\":1739710986,\"quality\":0},\"17\":{\"name\":\"Vietnam\",\"original\":\"vietnam\",\"code\":84,\"new\":false,\"enabled\":true,\"count\":9999,\"price\":0.17999999999999999,\"favorite\":false,\"data\":1739710986,\"quality\":0},\"18\":{\"name\":\"Australia\",\"original\":\"australia\",\"code\":61,\"new\":false,\"enabled\":true,\"count\":9999,\"price\":0.95999999999999996,\"favorite\":false,\"data\":1739710986,\"quality\":0},\"20\":{\"name\":\"Serbia\",\"original\":\"serbia\",\"code\":381,\"new\":false,\"enabled\":true,\"count\":9999,\"price\":0.40000000000000002,\"favorite\":false,\"data\":1739710986,\"quality\":0},\"22\":{\"name\":\"Estonia\",\"original\":\"estonia\",\"code\":372,\"new\":false,\"enabled\":true,\"count\":9999,\"price\":0.20000000000000001,\"favorite\":false,\"data\":1739710986,\"quality\":-0.20000000000000001},\"23\":{\"name\":\"Moldova\",\"original\":\"moldova\",\"code\":373,\"new\":false,\"enabled\":true,\"count\":9999,\"price\":0.57999999999999996,\"favorite\":false,\"data\":1739710986,\"quality\":0},\"24\":{\"name\":\"Georgia\",\"original\":\"georgia\",\"code\":995,\"new\":false,\"enabled\":true,\"count\":9999,\"price\":0.37,\"favorite\":false,\"data\":1739710986,\"quality\":0.20000000000000001},\"25\":{\"name\":\"Kyrgyzstan\",\"original\":\"kyrgyzstan\",\"code\":996,\"new\":false,\"enabled\":true,\"count\":9999,\"price\":0.059999999999999998,\"favorite\":false,\"data\":1739710986,\"quality\":0},\"26\":{\"name\":\"Brazil\",\"original\":\"brazil\",\"code\":55,\"new\":false,\"enabled\":true,\"count\":9999,\"price\":0.37,\"favorite\":false,\"data\":1739710986,\"quality\":0.10000000000000001},\"27\":{\"name\":\"Kenya\",\"original\":\"kenya\",\"code\":254,\"new\":false,\"enabled\":true,\"count\":9999,\"price\":0.33000000000000002,\"favorite\":false,\"data\":1739710986,\"quality\":0},\"28\":{\"name\":\"Mexico\",\"original\":\"mexico\",\"code\":52,\"new\":false,\"enabled\":true,\"count\":9756,\"price\":0.37,\"favorite\":false,\"data\":1739710986,\"quality\":0},\"29\":{\"name\":\"Argentina\",\"original\":\"argentina\",\"code\":54,\"new\":false,\"enabled\":true,\"count\":9999,\"price\":0.37,\"favorite\":false,\"data\":1739710986,\"quality\":0},\"30\":{\"name\":\"Turkey\",\"original\":\"turkey\",\"code\":90,\"new\":false,\"enabled\":true,\"count\":9999,\"price\":1.3600000000000001,\"favorite\":false,\"data\":1739710986,\"quality\":-0.10000000000000001},\"31\":{\"name\":\"Uzbekistan\",\"original\":\"uzbekistan\",\"code\":998,\"new\":false,\"enabled\":true,\"count\":9999,\"price\":0.47999999999999998,\"favorite\":false,\"data\":1739710986,\"quality\":0},\"32\":{\"name\":\"Egypt\",\"original\":\"egypt\",\"code\":20,\"new\":false,\"enabled\":true,\"count\":6483,\"price\":0.46999999999999997,\"favorite\":false,\"data\":1739710986,\"quality\":0},\"33\":{\"name\":\"Israel\",\"original\":\"israel\",\"code\":972,\"new\":false,\"enabled\":true,\"count\":9999,\"price\":0.55000000000000004,\"favorite\":false,\"data\":1739710986,\"quality\":0},\"37\":{\"name\":\"Ireland\",\"original\":\"ireland\",\"code\":353,\"new\":true,\"enabled\":true,\"count\":7927,\"price\":0.37,\"favorite\":false,\"data\":1739710986,\"quality\":0},\"38\":{\"name\":\"Ivory Coast\",\"original\":\"ivory\",\"code\":225,\"new\":false,\"enabled\":true,\"count\":7909,\"price\":0.40999999999999998,\"favorite\":false,\"data\":1739710986,\"quality\":0},\"40\":{\"name\":\"Sierre Lyone\",\"original\":\"sierraleone\",\"code\":232,\"new\":false,\"enabled\":true,\"count\":8218,\"price\":0.34999999999999998,\"favorite\":false,\"data\":1739710986,\"quality\":0},\"41\":{\"name\":\"Haiti\",\"original\":\"haiti\",\"code\":509,\"new\":false,\"enabled\":true,\"count\":24,\"price\":0.10000000000000001,\"favorite\":false,\"data\":1739710986,\"quality\":0},\"42\":{\"name\":\"Taiwan\",\"original\":\"taiwan\",\"code\":886,\"new\":false,\"enabled\":true,\"count\":4885,\"price\":0.37,\"favorite\":false,\"data\":1739710986,\"quality\":0},\"43\":{\"name\":\"Tunisia\",\"original\":\"tunis\",\"code\":216,\"new\":false,\"enabled\":true,\"count\":40,\"price\":0.14999999999999999,\"favorite\":false,\"data\":1739710986,\"quality\":0},\"44\":{\"name\":\"Iraq\",\"original\":\"iraq\",\"code\":964,\"new\":false,\"enabled\":true,\"count\":4424,\"price\":0.28000000000000003,\"favorite\":false,\"data\":1739710986,\"quality\":0},\"45\":{\"name\":\"Colombia\",\"original\":\"colombia\",\"code\":57,\"new\":false,\"enabled\":true,\"count\":9999,\"price\":0.37,\"favorite\":false,\"data\":1739710986,\"quality\":0},\"46\":{\"name\":\"Malaysia\",\"original\":\"malaysia\",\"code\":60,\"new\":false,\"enabled\":true,\"count\":9999,\"price\":0.23000000000000001,\"favorite\":false,\"data\":1739710986,\"quality\":0},\"47\":{\"name\":\"Honduras\",\"original\":\"honduras\",\"code\":504,\"new\":false,\"enabled\":true,\"count\":6490,\"price\":0.37,\"favorite\":false,\"data\":1739710986,\"quality\":0},\"48\":{\"name\":\"Chad\",\"original\":\"chad\",\"code\":235,\"new\":false,\"enabled\":true,\"count\":335,\"price\":0.10000000000000001,\"favorite\":false,\"data\":1739710986,\"quality\":0},\"52\":{\"name\":\"Tajikistan\",\"original\":\"tajikistan\",\"code\":992,\"new\":false,\"enabled\":true,\"count\":7660,\"price\":0.13,\"favorite\":false,\"data\":1739710986,\"quality\":0},\"53\":{\"name\":\"Iran\",\"original\":\"iran\",\"code\":98,\"new\":false,\"enabled\":true,\"count\":9999,\"price\":0.28000000000000003,\"favorite\":false,\"data\":1739710986,\"quality\":0},\"54\":{\"name\":\"Azerbaijan\",\"original\":\"azerbaijan\",\"code\":994,\"new\":false,\"enabled\":true,\"count\":9999,\"price\":0.28000000000000003,\"favorite\":false,\"data\":1739710986,\"quality\":0},\"55\":{\"name\":\"Afghanistan\",\"original\":\"afghanistan\",\"code\":93,\"new\":false,\"enabled\":true,\"count\":5568,\"price\":0.28000000000000003,\"favorite\":false,\"data\":1739710986,\"quality\":0},\"59\":{\"name\":\"Nepal\",\"original\":\"nepal\",\"code\":977,\"new\":false,\"enabled\":true,\"count\":7860,\"price\":0.37,\"favorite\":false,\"data\":1739710986,\"quality\":0},\"60\":{\"name\":\"Mali\",\"original\":\"mali\",\"code\":223,\"new\":false,\"enabled\":true,\"count\":247,\"price\":0.10000000000000001,\"favorite\":false,\"data\":1739710986,\"quality\":0},\"62\":{\"name\":\"Guinea\",\"original\":\"guinea\",\"code\":224,\"new\":false,\"enabled\":true,\"count\":242,\"price\":0.14000000000000001,\"favorite\":false,\"data\":1739710986,\"quality\":0},\"63\":{\"name\":\"Thailand\",\"original\":\"thailand\",\"code\":66,\"new\":false,\"enabled\":true,\"count\":9999,\"price\":0.26000000000000001,\"favorite\":false,\"data\":1739710986,\"quality\":0.10000000000000001},\"64\":{\"name\":\"Greece\",\"original\":\"greece\",\"code\":30,\"new\":false,\"enabled\":true,\"count\":9999,\"price\":0.37,\"favorite\":false,\"data\":1739710986,\"quality\":0},\"65\":{\"name\":\"Singapore\",\"original\":\"singapore\",\"code\":65,\"new\":false,\"enabled\":true,\"count\":9031,\"price\":1.1100000000000001,\"favorite\":false,\"data\":1739710986,\"quality\":0},\"66\":{\"name\":\"Belorussia\",\"original\":\"belorussia\",\"code\":375,\"new\":false,\"enabled\":true,\"count\":6315,\"price\":0.28000000000000003,\"favorite\":false,\"data\":1739710986,\"quality\":0},\"67\":{\"name\":\"Belgium\",\"original\":\"belgium\",\"code\":32,\"new\":false,\"enabled\":true,\"count\":8208,\"price\":0.22,\"favorite\":false,\"data\":1739710986,\"quality\":0},\"68\":{\"name\":\"Italy\",\"original\":\"italy\",\"code\":39,\"new\":false,\"enabled\":true,\"count\":9999,\"price\":0.37,\"favorite\":false,\"data\":1739710986,\"quality\":0},\"69\":{\"name\":\"Ecuador\",\"original\":\"ecuador\",\"code\":593,\"new\":false,\"enabled\":true,\"count\":275,\"price\":0.10000000000000001,\"favorite\":false,\"data\":1739710986,\"quality\":0},\"70\":{\"name\":\"Saudi Arabia\",\"original\":\"saudiarabia\",\"code\":966,\"new\":false,\"enabled\":false,\"count\":null,\"price\":0.10000000000000001,\"favorite\":false,\"data\":1739710986,\"quality\":0},\"71\":{\"name\":\"Switzerland\",\"original\":\"switzerland\",\"code\":41,\"new\":false,\"enabled\":true,\"count\":5168,\"price\":0.95999999999999996,\"favorite\":false,\"data\":1739710986,\"quality\":0},\"72\":{\"name\":\"Slovakia\",\"original\":\"slovakia\",\"code\":421,\"new\":false,\"enabled\":true,\"count\":9999,\"price\":0.87,\"favorite\":false,\"data\":1739710986,\"quality\":0},\"73\":{\"name\":\"Hungary\",\"original\":\"hungary\",\"code\":36,\"new\":false,\"enabled\":true,\"count\":8961,\"price\":0.87,\"favorite\":false,\"data\":1739710986,\"quality\":0},\"74\":{\"name\":\"North Macedonia\",\"original\":\"northmacedonia\",\"code\":389,\"new\":false,\"enabled\":true,\"count\":2227,\"price\":0.10000000000000001,\"favorite\":false,\"data\":1739710986,\"quality\":0},\"75\":{\"name\":\"Slovenia\",\"original\":\"slovenia\",\"code\":386,\"new\":false,\"enabled\":true,\"count\":3081,\"price\":0.10000000000000001,\"favorite\":false,\"data\":1739710986,\"quality\":0},\"76\":{\"name\":\"Peru\",\"original\":\"peru\",\"code\":51,\"new\":false,\"enabled\":true,\"count\":9999,\"price\":0.10000000000000001,\"favorite\":false,\"data\":1739710986,\"quality\":0},\"78\":{\"name\":\"Sudan\",\"original\":\"sudan\",\"code\":249,\"new\":false,\"enabled\":true,\"count\":10,\"price\":0.28000000000000003,\"favorite\":false,\"data\":1739710986,\"quality\":0},\"80\":{\"name\":\"Uganda\",\"original\":\"uganda\",\"code\":256,\"new\":false,\"enabled\":true,\"count\":269,\"price\":0.14999999999999999,\"favorite\":false,\"data\":1739710986,\"quality\":0},\"81\":{\"name\":\"Zambia\",\"original\":\"zambia\",\"code\":260,\"new\":false,\"enabled\":true,\"count\":7352,\"price\":0.46999999999999997,\"favorite\":false,\"data\":1739710986,\"quality\":0},\"82\":{\"name\":\"Malawi\",\"original\":\"malawi\",\"code\":265,\"new\":false,\"enabled\":true,\"count\":9999,\"price\":0.48999999999999999,\"favorite\":false,\"data\":1739710986,\"quality\":0},\"83\":{\"name\":\"Guinea Bissau\",\"original\":\"guinea bissau\",\"code\":245,\"new\":false,\"enabled\":true,\"count\":40,\"price\":0.14999999999999999,\"favorite\":false,\"data\":1739710986,\"quality\":0},\"84\":{\"name\":\"Mauritania\",\"original\":\"mauritania\",\"code\":222,\"new\":false,\"enabled\":true,\"count\":227,\"price\":0.14999999999999999,\"favorite\":false,\"data\":1739710986,\"quality\":0},\"85\":{\"name\":\"Senegal\",\"original\":\"senegal\",\"code\":221,\"new\":false,\"enabled\":true,\"count\":56,\"price\":0.14999999999999999,\"favorite\":false,\"data\":1739710986,\"quality\":0},\"86\":{\"name\":\"Austria\",\"original\":\"austria\",\"code\":43,\"new\":false,\"enabled\":true,\"count\":9999,\"price\":0.37,\"favorite\":false,\"data\":1739710986,\"quality\":0},\"89\":{\"name\":\"Laos\",\"original\":\"laos\",\"code\":856,\"new\":false,\"enabled\":true,\"count\":2253,\"price\":0.11,\"favorite\":false,\"data\":1739710986,\"quality\":0},\"90\":{\"name\":\"Myanmar\",\"original\":\"myanmar\",\"code\":95,\"new\":false,\"enabled\":true,\"count\":18,\"price\":0.10000000000000001,\"favorite\":false,\"data\":1739710986,\"quality\":0},\"91\":{\"name\":\"Cambodia\",\"original\":\"cambodia\",\"code\":855,\"new\":false,\"enabled\":true,\"count\":9999,\"price\":0.37,\"favorite\":false,\"data\":1739710986,\"quality\":0},\"92\":{\"name\":\"Chile\",\"original\":\"chile\",\"code\":56,\"new\":false,\"enabled\":true,\"count\":9999,\"price\":0.37,\"favorite\":false,\"data\":1739710986,\"quality\":0},\"93\":{\"name\":\"New Zealand\",\"original\":\"new zealand\",\"code\":64,\"new\":false,\"enabled\":true,\"count\":9999,\"price\":0.54000000000000004,\"favorite\":false,\"data\":1739710986,\"quality\":0},\"94\":{\"name\":\"Panama\",\"original\":\"panama\",\"code\":507,\"new\":false,\"enabled\":true,\"count\":229,\"price\":0.14999999999999999,\"favorite\":false,\"data\":1739710986,\"quality\":0},\"95\":{\"name\":\"Gabon\",\"original\":\"gabon\",\"code\":241,\"new\":false,\"enabled\":true,\"count\":256,\"price\":0.14000000000000001,\"favorite\":false,\"data\":1739710986,\"quality\":0},\"96\":{\"name\":\"Ethiopia\",\"original\":\"ethiopia\",\"code\":251,\"new\":false,\"enabled\":true,\"count\":8804,\"price\":0.27000000000000002,\"favorite\":false,\"data\":1739710986,\"quality\":0},\"97\":{\"name\":\"Congo\",\"original\":\"kongo\",\"code\":243,\"new\":false,\"enabled\":false,\"count\":null,\"price\":0.14999999999999999,\"favorite\":false,\"data\":1739710986,\"quality\":0},\"98\":{\"name\":\"Burundi\",\"original\":\"burundi\",\"code\":257,\"new\":false,\"enabled\":true,\"count\":6212,\"price\":0.25,\"favorite\":false,\"data\":1739710986,\"quality\":0},\"99\":{\"name\":\"Benin\",\"original\":\"benin\",\"code\":229,\"new\":false,\"enabled\":true,\"count\":333,\"price\":0.14000000000000001,\"favorite\":false,\"data\":1739710986,\"quality\":-0.10000000000000001},\"100\":{\"name\":\"South Africa\",\"original\":\"republic of south africa\",\"code\":27,\"new\":false,\"enabled\":true,\"count\":7738,\"price\":0.12,\"favorite\":false,\"data\":1739710986,\"quality\":0.5},\"101\":{\"name\":\"Angola\",\"original\":\"angola\",\"code\":244,\"new\":false,\"enabled\":true,\"count\":8548,\"price\":0.28000000000000003,\"favorite\":false,\"data\":1739710986,\"quality\":0},\"102\":{\"name\":\"Liban\",\"original\":\"lebanon\",\"code\":961,\"new\":false,\"enabled\":false,\"count\":null,\"price\":0.14999999999999999,\"favorite\":false,\"data\":1739710986,\"quality\":0},\"103\":{\"name\":\"Mozambique\",\"original\":\"mozambique\",\"code\":258,\"new\":false,\"enabled\":true,\"count\":6819,\"price\":0.14999999999999999,\"favorite\":false,\"data\":1739710986,\"quality\":0},\"104\":{\"name\":\"Syrie\",\"original\":\"syria\",\"code\":963,\"new\":false,\"enabled\":false,\"count\":null,\"price\":0.14999999999999999,\"favorite\":false,\"data\":1739710986,\"quality\":0},\"105\":{\"name\":\"Japan\",\"original\":\"japan\",\"code\":81,\"new\":false,\"enabled\":true,\"count\":4920,\"price\":4.3899999999999997,\"favorite\":false,\"data\":1739710986,\"quality\":0},\"107\":{\"name\":\"Bhutane\",\"original\":\"butane\",\"code\":975,\"new\":false,\"enabled\":false,\"count\":null,\"price\":0.17999999999999999,\"favorite\":false,\"data\":1739710986,\"quality\":0},\"108\":{\"name\":\"Bangladesh\",\"original\":\"bangladesh\",\"code\":880,\"new\":false,\"enabled\":true,\"count\":5839,\"price\":0.17999999999999999,\"favorite\":false,\"data\":1739710986,\"quality\":0}}},\"links\":{\"first\":\"https:\\/\\/onlinesim.io\\/api\\/v2\\/getNumberStat?page=1\",\"last\":\"https:\\/\\/onlinesim.io\\/api\\/v2\\/getNumberStat?page=145\",\"prev\":null,\"next\":\"https:\\/\\/onlinesim.io\\/api\\/v2\\/getNumberStat?page=2\"},\"meta\":{\"current_page\":1,\"from\":1,\"last_page\":145,\"links\":[{\"url\":null,\"label\":\"&laquo; Back\",\"active\":false},{\"url\":\"https:\\/\\/onlinesim.io\\/api\\/v2\\/getNumberStat?page=1\",\"label\":\"1\",\"active\":true},{\"url\":\"https:\\/\\/onlinesim.io\\/api\\/v2\\/getNumberStat?page=2\",\"label\":\"2\",\"active\":false},{\"url\":\"https:\\/\\/onlinesim.io\\/api\\/v2\\/getNumberStat?page=3\",\"label\":\"3\",\"active\":false},{\"url\":\"https:\\/\\/onlinesim.io\\/api\\/v2\\/getNumberStat?page=4\",\"label\":\"4\",\"active\":false},{\"url\":\"https:\\/\\/onlinesim.io\\/api\\/v2\\/getNumberStat?page=5\",\"label\":\"5\",\"active\":false},{\"url\":\"https:\\/\\/onlinesim.io\\/api\\/v2\\/getNumberStat?page=6\",\"label\":\"6\",\"active\":false},{\"url\":\"https:\\/\\/onlinesim.io\\/api\\/v2\\/getNumberStat?page=7\",\"label\":\"7\",\"active\":false},{\"url\":\"https:\\/\\/onlinesim.io\\/api\\/v2\\/getNumberStat?page=8\",\"label\":\"8\",\"active\":false},{\"url\":\"https:\\/\\/onlinesim.io\\/api\\/v2\\/getNumberStat?page=9\",\"label\":\"9\",\"active\":false},{\"url\":\"https:\\/\\/onlinesim.io\\/api\\/v2\\/getNumberStat?page=10\",\"label\":\"10\",\"active\":false},{\"url\":null,\"label\":\"...\",\"active\":false},{\"url\":\"https:\\/\\/onlinesim.io\\/api\\/v2\\/getNumberStat?page=144\",\"label\":\"144\",\"active\":false},{\"url\":\"https:\\/\\/onlinesim.io\\/api\\/v2\\/getNumberStat?page=145\",\"label\":\"145\",\"active\":false},{\"url\":\"https:\\/\\/onlinesim.io\\/api\\/v2\\/getNumberStat?page=2\",\"label\":\"Forward &raquo;\",\"active\":false}],\"path\":\"https:\\/\\/onlinesim.io\\/api\\/v2\\/getNumberStat\",\"per_page\":20,\"to\":20,\"total\":2889},\"response\":\"1\"}\n"
     ]
    }
   ],
   "source": [
    "import requests\n",
    "\n",
    "url = \"https://onlinesim.io/api/v2/getNumberStat?service=amazon&lang=en&apikey=fw68TRk4KSwrB2G-U7XyJap1-DZwYn55D-K3rddK9m-86Mc932uH3fkUNx\"\n",
    "\n",
    "payload = {}\n",
    "headers = {\n",
    "  'Cookie': 'qrator_ssid2=v2.0.1739709830.334.67859eacQjf3xBn4|7vqSiJfdp9Sch153|60JvSH3s1S0dXfnuiu2NuL/Atli77tZm5E1LTk8yuk4kOuJhFdiLxRfEciuf78G3goyzvdZfM4D/q31nSMc+vrIxuJrp3RRjmf7eIZZIwuY=-wS0lJNebKlIBTX/h/9vhw17LL2o='\n",
    "}\n",
    "\n",
    "response = requests.request(\"GET\", url, data=payload)\n",
    "\n",
    "print(response.text)\n"
   ]
  },
  {
   "cell_type": "code",
   "execution_count": 10,
   "id": "eba7576f-c9c2-431f-be99-1f822001178c",
   "metadata": {},
   "outputs": [],
   "source": [
    "response = response.json()\n",
    "data = response[\"data\"]\n",
    "\n",
    "countries = {record[\"code\"]: record[\"price\"] for idx, record in data[\"countries\"].items()}\n",
    "countries.update({record[\"code\"]: record[\"price\"] for record in data[\"favorite_countries\"]})\n",
    "\n",
    "sorted_country_code = sorted(countries, key=lambda c: countries[c])"
   ]
  },
  {
   "cell_type": "code",
   "execution_count": 13,
   "id": "4753f489-8ec0-4d5d-bb02-a6f7ec58cce8",
   "metadata": {},
   "outputs": [
    {
     "data": {
      "text/plain": [
       "[996, 77, 1000, 509, 235]"
      ]
     },
     "execution_count": 13,
     "metadata": {},
     "output_type": "execute_result"
    }
   ],
   "source": [
    "sorted_country_code[:5]"
   ]
  },
  {
   "cell_type": "code",
   "execution_count": 7,
   "id": "426c460d-c82e-4530-888d-f7b1cdb10e1b",
   "metadata": {},
   "outputs": [
    {
     "data": {
      "text/plain": [
       "{77: 0.06, 237: 0.1, 33: 0.7, 63: 0.86, 62: 0.15, 46: 0.13}"
      ]
     },
     "execution_count": 7,
     "metadata": {},
     "output_type": "execute_result"
    }
   ],
   "source": [
    "{record[\"code\"]: record[\"price\"] for record in data[\"favorite_countries\"]}"
   ]
  },
  {
   "cell_type": "code",
   "execution_count": 14,
   "id": "3fc58183-3eb6-47ff-b2bf-dbe95a690ead",
   "metadata": {},
   "outputs": [],
   "source": []
  },
  {
   "cell_type": "code",
   "execution_count": 26,
   "id": "6d696858-35d5-497f-8eba-7a0541ad7245",
   "metadata": {},
   "outputs": [
    {
     "data": {
      "text/plain": [
       "[{'country': 1000,\n",
       "  'sum': 0.1,\n",
       "  'service': 'amazon',\n",
       "  'number': '+16396972370',\n",
       "  'subscription_package_id': None,\n",
       "  'webhook_url': None,\n",
       "  'response': 'TZ_NUM_ANSWER',\n",
       "  'tzid': 152861004,\n",
       "  'time': 678,\n",
       "  'msg': '000921',\n",
       "  'form': 'index'}]"
      ]
     },
     "execution_count": 26,
     "metadata": {},
     "output_type": "execute_result"
    }
   ],
   "source": [
    "url = 'https://onlinesim.io/api/getState.php?lang=en&message_to_code=true&msg_list=false&tzid=152861004&apikey=fw68TRk4KSwrB2G-U7XyJap1-DZwYn55D-K3rddK9m-86Mc932uH3fkUNx'\n",
    "response = requests.get(url)\n",
    "response.json()"
   ]
  },
  {
   "cell_type": "code",
   "execution_count": 28,
   "id": "0fb295ac-4904-46e4-8691-732080a7bdab",
   "metadata": {},
   "outputs": [],
   "source": [
    "class CountryCodeMapping:\n",
    "    CA = 1\n",
    "    US = 1\n",
    "\n",
    "def get_country_code(country: str):\n",
    "    country = country.upper()\n",
    "    if not hasattr(CountryCodeMapping, country):\n",
    "        return None\n",
    "    return getattr(CountryCodeMapping, country)\n"
   ]
  },
  {
   "cell_type": "code",
   "execution_count": 31,
   "id": "3b0364fa-e25b-4a59-b978-da04466a2216",
   "metadata": {},
   "outputs": [],
   "source": [
    "get_country_code(\"cas\")"
   ]
  },
  {
   "cell_type": "code",
   "execution_count": 46,
   "id": "b8c8618c-41b5-425a-a836-2c3537c596a9",
   "metadata": {},
   "outputs": [],
   "source": [
    "a = [{'country': 1000,\n",
    "  'sum': 0.1,\n",
    "  'service': 'amazon',\n",
    "  'number': '+16396972370',\n",
    "  'subscription_package_id': None,\n",
    "  'webhook_url': None,\n",
    "  'response': 'TZ_NUM_ANSWER',\n",
    "  'tzid': 152861004,\n",
    "  'time': 678,\n",
    "  'msg': '000921',\n",
    "  'form': 'index'}]"
   ]
  },
  {
   "cell_type": "code",
   "execution_count": 58,
   "id": "f1784f2b-58e5-4d98-99b1-280f017a66e2",
   "metadata": {},
   "outputs": [
    {
     "data": {
      "text/plain": [
       "'+16396972370'"
      ]
     },
     "execution_count": 58,
     "metadata": {},
     "output_type": "execute_result"
    }
   ],
   "source": [
    "a[0].get(\"number\")"
   ]
  },
  {
   "cell_type": "code",
   "execution_count": 62,
   "id": "3685072a-5f06-4b34-8c72-6cc1057a9e52",
   "metadata": {},
   "outputs": [
    {
     "data": {
      "text/plain": [
       "'8796703451'"
      ]
     },
     "execution_count": 62,
     "metadata": {},
     "output_type": "execute_result"
    }
   ],
   "source": [
    "\"+5478796703451\"[-10:]"
   ]
  },
  {
   "cell_type": "code",
   "execution_count": 3,
   "id": "d870f6a3-ed60-4987-90be-3b21d4ae8108",
   "metadata": {},
   "outputs": [
    {
     "name": "stdout",
     "output_type": "stream",
     "text": [
      "<!DOCTYPE html><html lang=\"en\"><head><meta charset=\"utf-8\"><title>Email generator - Generate a temporary email address</title><meta name=\"description\" content=\"YOPmail email generator randomly creates a temporary email address for you. Freely use it as an anonymous email address and hide your own email.\"/><meta name=\"keywords\" content=\"email, generator, email generator, anonymous, hide, disposable, temporary, mail, random, free, e-mail, generate\"/><meta property=\"og:title\" content=\"Email generator - Generate a temporary email address\"/><meta property=\"og:type\" content=\"article\"/><meta property=\"og:url\" content=\"https://yopmail.com/en/email-generator\"/><meta property=\"og:site_name\" content=\"YOPmail\"/><meta property=\"og:image\" content=\"/logo.png\"/><meta property=\"og:description\" content=\"YOPmail email generator randomly creates a temporary email address for you. Freely use it as an anonymous email address and hide your own email.\"/><link rel=\"canonical\" href=\"https://yopmail.com/email-generator\"/><link rel=\"alternate\" hreflang=\"x-default\" href=\"https://yopmail.com/email-generator\"/><link rel=\"alternate\" hreflang=\"en-US\" href=\"https://yopmail.com/email-generator\"/><link rel=\"alternate\" hreflang=\"en\" href=\"https://yopmail.com/en/email-generator\"/><link rel=\"alternate\" hreflang=\"fr\" href=\"https://yopmail.com/fr/email-generator\"/><link rel=\"alternate\" hreflang=\"es\" href=\"https://yopmail.com/es/email-generator\"/><link rel=\"alternate\" hreflang=\"it\" href=\"https://yopmail.com/it/email-generator\"/><link rel=\"alternate\" hreflang=\"pl\" href=\"https://yopmail.com/pl/email-generator\"/><link rel=\"alternate\" hreflang=\"zh\" href=\"https://yopmail.com/zh/email-generator\"/><link rel=\"alternate\" hreflang=\"uk\" href=\"https://yopmail.com/uk/email-generator\"/><link rel=\"alternate\" hreflang=\"ru\" href=\"https://yopmail.com/ru/email-generator\"/><link rel=\"alternate\" hreflang=\"de\" href=\"https://yopmail.com/de/email-generator\"/><meta name=\"viewport\" content=\"width=device-width,initial-scale=1\"/><link href=\"https://fonts.googleapis.com/css?family=Material+Icons+Outlined&display=block\" rel=\"stylesheet\"><link href=\"/ver/9.2/style.css\" rel=\"stylesheet\" type=\"text/css\"/><link rel=\"icon\" href=\"/favicon.gif\"/><script>var w=window;</script><script src=\"/ver/9.2/webmail.js\"></script><script async src=\"https://pagead2.googlesyndication.com/pagead/js/adsbygoogle.js?client=ca-pub-5609129721109980\" crossorigin=\"anonymous\"></script></head><body class=\"index egen\"><div class=\"ymain\" ><div class=\"ymainleft\"></div><div class=\"ymaincenter\"><header><nav class=\"notmobile\"><div style=\"flex:1\"></div><div class=\"flexcx\" style=\"flex:1;align-items: flex-start;\"><a href=\".\" target=\"_top\" class=\"hlink bl\" title=\"YOPmail - Temporary email\"><i class=\"material-icons-outlined f18 bhabs\">&#xe88a;</i>Home</a><a href=\"donate\" class=\"hlink\" ><i class=\"material-icons-outlined f18 bhabs\">&#xe8dc;</i>Donate</a><a href=\"add-domain\" title=\"Your own disposable email service for free\" class=\"hlink\" ><i class=\"material-icons-outlined f18 bhabs\">&#xe80b;</i>Domains</a><a href=\"email-generator\" title=\"Generate a random email address\" class=\"hlink\" ><i class=\"material-icons-outlined f18 bhabs\">&#xe663;</i>Random</a></div><div style=\"flex:1;display:flex;\"><div style=\"flex:3\"></div><div style=\"flex:1;display: flex;justify-content: flex-end;padding-top: 1px;\"><div class=\"langmenuctn\"><div class=\"langmenu\"><div class=\"flexcy\"><div class=\"langitem\" style=\"flex:10;\"><img class=\"imgln\" loading=\"lazy\" title=\"Disposable email in English\" alt=\"Temporary Email\" src=\"/pic/en.svg\"/>English</div><div style=\"flex:1;\"><i class=\"material-icons-outlined f14\">&#xe5cf;</i></div></div><div class=\"langlist\"><div class=\"langitem\"></div><div class=\"flexcy langitem\"><a class=\"ll\" href=\"/fr/\" title=\"Français\"><img class=\"imgln\" loading=\"lazy\" title=\"Adresses temporaires en Français\" alt=\"Email jetable et gratuit\" src=\"/pic/fr.svg\"/>Français</a></div><div class=\"flexcy langitem\"><a class=\"ll\" href=\"/es/\" title=\"Espa&ntilde;ol\"><img class=\"imgln\" loading=\"lazy\" alt=\"E-mail desechable\" src=\"/pic/es.svg\"/>Espa&ntilde;ol</a></div><div class=\"flexcy langitem\"><a class=\"ll\" href=\"/it/\" title=\"Italiano\"><img class=\"imgln\" loading=\"lazy\" alt=\"e-mail usa e getta\" src=\"/pic/it.svg\"/>Italiano</a></div><div class=\"flexcy langitem\"><a class=\"ll\" href=\"/de/\" title=\"Deutsch\"><img class=\"imgln\" loading=\"lazy\" alt=\"Wegwerf-E-Mail\" src=\"/pic/de.svg\"/>Deutsch</a></div><div class=\"flexcy langitem\"><a class=\"ll\" href=\"/pl/\" title=\"Polsku\"><img class=\"imgln\" loading=\"lazy\" title=\"Polsku\" alt=\"Tymczasowy adres email\" src=\"/pic/pl.svg\"/>Polsku</a></div><div class=\"flexcy langitem\"><a class=\"ll\" href=\"/ru/\" title=\"Pусский\"><img class=\"imgln\" loading=\"lazy\" alt=\"Бесплатные адреса электронной почты\" src=\"/pic/ru.svg\"/>Pусский</a></div><div class=\"flexcy langitem\"><a class=\"ll\" href=\"/uk/\" title=\"Українська\"><img class=\"imgln\" loading=\"lazy\" alt=\"Українська\" src=\"/pic/uk.svg\"/>Українська</a></div><div class=\"flexcy langitem\"><a class=\"ll\" href=\"/zh/\" title=\"中文\"><img class=\"imgln\" loading=\"lazy\" alt=\"Chinese\" src=\"/pic/zh.svg\"/>中文</a></div></div></div></div></div></div></nav><div class=\"ylogo\"><a class=\"lin whc\" href=\".\" title=\"YOPmail - Disposable email\"><img class=\"whc\" alt=\"YOPmail, Disposable email Address\" id=\"logoacc\" src=\"data:image/png;base64,iVBORw0KGgoAAAANSUhEUgAAAAEAAAABCAQAAAC1HAwCAAAAC0lEQVR42mNkYAAAAAYAAjCB0C8AAAAASUVORK5CYII=\"/></a></div><div class=\"ytitle flexcxy\"><div class=\"material-icons-outlined pageico\">&#xe663;</div><h1>Email generator<span class=\"notmobile\">&nbsp;- Generate randomly an anonymous email</span></h1></div></header><main><div class=\"pagemarge\"><div class=\"ppagehautctn brounded\"><ins class=\"adsbygoogle ppagehaut\" style=\"display:inline-block\" data-ad-client=\"ca-pub-5609129721109980\" data-ad-slot=\"3300204074\" data-full-width-responsive=\"false\"></ins><script>(adsbygoogle=window.adsbygoogle || []).push({});</script></div><div class=\"pagecdr brounded\"><h2 class=\"pagetitle\">Your auto-generated email address</h2> <div class=\"pageegen flexcy\"><h3>Freely use the email generator to create randomly an anonymous email address and hide your email. The generated disposable email is instantly accessible and usable. To check messages, check the above username at YOPmail. To let YOPmail remember your inbox each visit, do not delete YOPmail cookie.</h3><div class=\"egenctn flexcxy\"><div id=\"egen\"><div id=\"geny\"><span class=\"genytxt\"><script>login='raugroroucroira-5438';</script>raugroroucroira-5438</span>@<span class=\"genytxt\">yopmail.com</span></div></div><div class=\"nw\"><button class=\"md but text f24 egenbut\" onclick=\"newgen();\"><i class=\"material-icons-outlined\">&#xe863;</i><span>New</span></button>&nbsp;<div class=\"tooltip\" style=\"display:inline-block\"><button id=\"cprnd\" class=\"md but text f24 egenbut\" onclick=\"clipboard('geny')\"><i class=\"material-icons-outlined\">&#xe14d;</i><span><span class=\"notmobile\">Copy to clipboard</span><span class=\"mobile\">Copy</span></span></button><span class=\"tooltiptext toolmiddle\" id=\"cptooltip_geny\">Copy to clipboard</span></div>&nbsp;<button class=\"md but text f24 egenbut\" onclick=\"egengo();\"><i class=\"material-icons-outlined\">&#xe5cc;</i><span>Check Inbox</span></button></div></div><div id=\"egenaltctn\" class=\"egenctn flexcxy\"><div><p style=\"font-size: 12px;text-align: center;\">Websites keep blocking disposable email addresses from time to time. So YOPmail offers a list of alternate domains. So your temporary address will not be blacklisted by websites.<br>One new domain name each day !</p></div><div id=\"egenalt\"><div class=\"flexcxy\" style=\"flex-wrap: wrap;\"><span class=\"egenalttit\">Alternate domain<button id=\"helpalias\" title=\"what is an alternate domain?\" class=\"md but f14\" onclick=\"nav('alternate-domains')\"><i class=\"material-icons-outlined\">&#xe88e;</i></button>:</span><div class=\"segen\"><div style=\"color: #e5e5e5;display: flex;align-items: center;\">raugroroucroira-5438<iframe style=\"width:170px;height:20px;border:0;\" src=\"domain?d=list\" name=\"ifdoms\" id=\"ifdoms\"></iframe></div></div></div><div class=\"tooltip\" style=\"display:inline-block\"><button id=\"cpdom\" class=\"md but text f18 egenbut\" onclick=\"clipboard('gend',login+w.frames['ifdoms'].document.getElementById('seldom').value);\"><i class=\"material-icons-outlined\">&#xe14d;</i></button><span class=\"tooltiptext toolleft\" id=\"cptooltip_gend\">Copy to clipboard</span></div></div></div><h4>Note that all the accounts @YOPmail already exist and are available without any need to create them. Email generator is not essential to use YOPmail. You can use any name of your choice.</h4></div></div><div class=\"ppagebasctn\"><ins class=\"adsbygoogle ppagebas\" style=\"display:inline-block\" data-ad-client=\"ca-pub-5609129721109980\" data-ad-slot=\"3159290190\" data-full-width-responsive=\"false\"></ins><script>(adsbygoogle=window.adsbygoogle || []).push({});</script></div></div></main><footer><div class=\"yfootlinks petit nb\"><a href=\"contact\">Contact</a><span>|</span><a href=\"privacy\">Privacy Policy</a></div></footer></div><div class=\"ymainright\"></div></div></body></html>\n"
     ]
    }
   ],
   "source": [
    "import requests\n",
    "\n",
    "url = \"https://yopmail.com/en/email-generator\"\n",
    "\n",
    "payload = {}\n",
    "headers = {\n",
    "  'Accept': 'text/html,application/xhtml+xml,application/xml;q=0.9,image/avif,image/webp,image/apng,*/*;q=0.8',\n",
    "  'Accept-Language': 'en-US,en;q=0.8',\n",
    "  'Connection': 'keep-alive',\n",
    "  'Sec-Fetch-Dest': 'document',\n",
    "  'Sec-Fetch-Mode': 'navigate',\n",
    "  'Sec-Fetch-Site': 'none',\n",
    "  'Sec-Fetch-User': '?1',\n",
    "  'Sec-GPC': '1',\n",
    "  'Upgrade-Insecure-Requests': '1',\n",
    "  'User-Agent': 'Mozilla/5.0 (Windows NT 10.0; Win64; x64) AppleWebKit/537.36 (KHTML, like Gecko) Chrome/133.0.0.0 Safari/537.36',\n",
    "  'sec-ch-ua': '\"Not(A:Brand\";v=\"99\", \"Brave\";v=\"133\", \"Chromium\";v=\"133\"',\n",
    "  'sec-ch-ua-mobile': '?0',\n",
    "  'sec-ch-ua-platform': '\"Windows\"'\n",
    "}\n",
    "\n",
    "response = requests.request(\"GET\", url, headers=headers, data=payload)\n",
    "\n",
    "print(response.text)\n"
   ]
  },
  {
   "cell_type": "code",
   "execution_count": null,
   "id": "4acb4efc-1f58-4eaf-8753-cbd078798e93",
   "metadata": {},
   "outputs": [],
   "source": []
  }
 ],
 "metadata": {
  "kernelspec": {
   "display_name": "Python 3 (ipykernel)",
   "language": "python",
   "name": "python3"
  },
  "language_info": {
   "codemirror_mode": {
    "name": "ipython",
    "version": 3
   },
   "file_extension": ".py",
   "mimetype": "text/x-python",
   "name": "python",
   "nbconvert_exporter": "python",
   "pygments_lexer": "ipython3",
   "version": "3.10.11"
  }
 },
 "nbformat": 4,
 "nbformat_minor": 5
}
