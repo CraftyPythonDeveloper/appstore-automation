{
 "cells": [
  {
   "cell_type": "code",
   "execution_count": 47,
   "id": "d39fb5ff-899b-4833-9a9c-13f5076269e6",
   "metadata": {},
   "outputs": [],
   "source": [
    "import os\n",
    "\n",
    "os.chdir(\"..\")\n",
    "\n",
    "from automation.workflows import AmazonAccountCreationWorkflow"
   ]
  },
  {
   "cell_type": "code",
   "execution_count": 48,
   "id": "223c6636-5184-403f-ac08-c326e5f46ce1",
   "metadata": {},
   "outputs": [],
   "source": [
    "# amazon_account_creation_flow = AmazonAccountCreationWorkflow()"
   ]
  },
  {
   "cell_type": "code",
   "execution_count": 75,
   "id": "d1e30d0c-aa99-4716-bef7-1b6ed504ebfa",
   "metadata": {},
   "outputs": [],
   "source": [
    "from automation.base_driver import BaseDriver\n",
    "from automation.pages.amazon_homepage import AmazonHomePage\n",
    "from automation.pages.amazon_signup_page import AmazonSignupPage\n",
    "from automation.pages.amazon_profile_page import AmazonProfilePage\n",
    "from automation.pages.amazon_developer_registration import AmazonDevRegistrationPage\n",
    "from integrations.virtual_number_service import OnlineSimService\n",
    "from integrations.tempmail_service import TempMailService\n",
    "from utils.logger import logger\n",
    "from utils.utils import get_fake_name, get_fake_password\n",
    "\n",
    "self = BaseDriver()\n",
    "\n",
    "self.name = \"John Dear\"\n",
    "self.email = None\n",
    "self.password = None\n",
    "self.phone_number = None\n",
    "self.totp_secret = None\n",
    "self.country = None or \"canada\"\n",
    "self.driver = self.get_driver(enable_captcha_solver=True, enable_proxy=True)"
   ]
  },
  {
   "cell_type": "code",
   "execution_count": 76,
   "id": "701a2106-2262-4dfd-90fc-77c044194ca4",
   "metadata": {},
   "outputs": [
    {
     "name": "stderr",
     "output_type": "stream",
     "text": [
      "2025-02-26 00:08:47,055 - INFO - Generated new phone number: None\n"
     ]
    }
   ],
   "source": [
    "temp_mail_service = TempMailService()\n",
    "self.email = temp_mail_service.get_new_email_id()\n",
    "\n",
    "self.name = get_fake_name()\n",
    "self.password = get_fake_password()\n",
    "logger.info(f\"Generated new phone number: {self.phone_number}\")\n",
    "\n",
    "home_page = AmazonHomePage(driver=self.driver)"
   ]
  },
  {
   "cell_type": "code",
   "execution_count": 77,
   "id": "36c0637b-3ab1-4890-8068-c47d77059a0d",
   "metadata": {},
   "outputs": [
    {
     "ename": "LinkTextNotFoundException",
     "evalue": "\n Link text {Create Developer Account} was not found after 7 seconds!",
     "output_type": "error",
     "traceback": [
      "\u001b[1;31m---------------------------------------------------------------------------\u001b[0m",
      "\u001b[1;31mLinkTextNotFoundException\u001b[0m                 Traceback (most recent call last)",
      "Cell \u001b[1;32mIn[77], line 2\u001b[0m\n\u001b[0;32m      1\u001b[0m home_page\u001b[38;5;241m.\u001b[39mload_page()\n\u001b[1;32m----> 2\u001b[0m \u001b[43mhome_page\u001b[49m\u001b[38;5;241;43m.\u001b[39;49m\u001b[43mget_signup_page\u001b[49m\u001b[43m(\u001b[49m\u001b[43m)\u001b[49m\n",
      "File \u001b[1;32m~\\PycharmProjects\\appstore-automation\\src\\automation\\pages\\amazon_homepage.py:50\u001b[0m, in \u001b[0;36mAmazonHomePage.get_signup_page\u001b[1;34m(self)\u001b[0m\n\u001b[0;32m     47\u001b[0m \u001b[38;5;28mself\u001b[39m\u001b[38;5;241m.\u001b[39mrandom_sleep()\n\u001b[0;32m     48\u001b[0m \u001b[38;5;28mself\u001b[39m\u001b[38;5;241m.\u001b[39mdriver\u001b[38;5;241m.\u001b[39mrefresh()\n\u001b[1;32m---> 50\u001b[0m \u001b[38;5;28;43mself\u001b[39;49m\u001b[38;5;241;43m.\u001b[39;49m\u001b[43mdriver\u001b[49m\u001b[38;5;241;43m.\u001b[39;49m\u001b[43mclick_link\u001b[49m\u001b[43m(\u001b[49m\u001b[43mAmazonHomePageSelectors\u001b[49m\u001b[38;5;241;43m.\u001b[39;49m\u001b[43mCREATE_DEVELOPER_ACCOUNT_BTN\u001b[49m\u001b[43m)\u001b[49m\n\u001b[0;32m     51\u001b[0m \u001b[38;5;28mself\u001b[39m\u001b[38;5;241m.\u001b[39mrandom_sleep()\n\u001b[0;32m     53\u001b[0m \u001b[38;5;28mself\u001b[39m\u001b[38;5;241m.\u001b[39mdriver\u001b[38;5;241m.\u001b[39mclick(AmazonHomePageSelectors\u001b[38;5;241m.\u001b[39mCREATE_ACCOUNT_BTN)\n",
      "File \u001b[1;32m~\\PycharmProjects\\appstore-automation\\.venv\\lib\\site-packages\\seleniumbase\\core\\sb_driver.py:78\u001b[0m, in \u001b[0;36mDriverMethods.click_link\u001b[1;34m(self, *args, **kwargs)\u001b[0m\n\u001b[0;32m     77\u001b[0m \u001b[38;5;28;01mdef\u001b[39;00m\u001b[38;5;250m \u001b[39m\u001b[38;5;21mclick_link\u001b[39m(\u001b[38;5;28mself\u001b[39m, \u001b[38;5;241m*\u001b[39margs, \u001b[38;5;241m*\u001b[39m\u001b[38;5;241m*\u001b[39mkwargs):\n\u001b[1;32m---> 78\u001b[0m     page_actions\u001b[38;5;241m.\u001b[39mclick_link(\u001b[38;5;28mself\u001b[39m\u001b[38;5;241m.\u001b[39mdriver, \u001b[38;5;241m*\u001b[39margs, \u001b[38;5;241m*\u001b[39m\u001b[38;5;241m*\u001b[39mkwargs)\n",
      "File \u001b[1;32m~\\PycharmProjects\\appstore-automation\\.venv\\lib\\site-packages\\seleniumbase\\fixtures\\page_actions.py:1605\u001b[0m, in \u001b[0;36mclick_link\u001b[1;34m(driver, link_text, timeout)\u001b[0m\n\u001b[0;32m   1603\u001b[0m     driver\u001b[38;5;241m.\u001b[39mcdp\u001b[38;5;241m.\u001b[39mclick_link(link_text)\n\u001b[0;32m   1604\u001b[0m     \u001b[38;5;28;01mreturn\u001b[39;00m\n\u001b[1;32m-> 1605\u001b[0m element \u001b[38;5;241m=\u001b[39m \u001b[43mwait_for_element_clickable\u001b[49m\u001b[43m(\u001b[49m\n\u001b[0;32m   1606\u001b[0m \u001b[43m    \u001b[49m\u001b[43mdriver\u001b[49m\u001b[43m,\u001b[49m\u001b[43m \u001b[49m\u001b[43mlink_text\u001b[49m\u001b[43m,\u001b[49m\u001b[43m \u001b[49m\u001b[43mby\u001b[49m\u001b[38;5;241;43m=\u001b[39;49m\u001b[38;5;124;43m\"\u001b[39;49m\u001b[38;5;124;43mlink text\u001b[39;49m\u001b[38;5;124;43m\"\u001b[39;49m\u001b[43m,\u001b[49m\u001b[43m \u001b[49m\u001b[43mtimeout\u001b[49m\u001b[38;5;241;43m=\u001b[39;49m\u001b[43mtimeout\u001b[49m\n\u001b[0;32m   1607\u001b[0m \u001b[43m\u001b[49m\u001b[43m)\u001b[49m\n\u001b[0;32m   1608\u001b[0m element\u001b[38;5;241m.\u001b[39mclick()\n",
      "File \u001b[1;32m~\\PycharmProjects\\appstore-automation\\.venv\\lib\\site-packages\\seleniumbase\\fixtures\\page_actions.py:932\u001b[0m, in \u001b[0;36mwait_for_element_clickable\u001b[1;34m(driver, selector, by, timeout, original_selector)\u001b[0m\n\u001b[0;32m    926\u001b[0m \u001b[38;5;28;01melif\u001b[39;00m \u001b[38;5;129;01mnot\u001b[39;00m element \u001b[38;5;129;01mand\u001b[39;00m by \u001b[38;5;241m==\u001b[39m \u001b[38;5;124m\"\u001b[39m\u001b[38;5;124mlink text\u001b[39m\u001b[38;5;124m\"\u001b[39m \u001b[38;5;129;01mand\u001b[39;00m \u001b[38;5;129;01mnot\u001b[39;00m is_visible:\n\u001b[0;32m    927\u001b[0m     message \u001b[38;5;241m=\u001b[39m \u001b[38;5;124m\"\u001b[39m\u001b[38;5;124mLink text \u001b[39m\u001b[38;5;124m{\u001b[39m\u001b[38;5;132;01m%s\u001b[39;00m\u001b[38;5;124m} was not found after \u001b[39m\u001b[38;5;132;01m%s\u001b[39;00m\u001b[38;5;124m second\u001b[39m\u001b[38;5;132;01m%s\u001b[39;00m\u001b[38;5;124m!\u001b[39m\u001b[38;5;124m\"\u001b[39m \u001b[38;5;241m%\u001b[39m (\n\u001b[0;32m    928\u001b[0m         selector,\n\u001b[0;32m    929\u001b[0m         timeout,\n\u001b[0;32m    930\u001b[0m         plural,\n\u001b[0;32m    931\u001b[0m     )\n\u001b[1;32m--> 932\u001b[0m     \u001b[43mtimeout_exception\u001b[49m\u001b[43m(\u001b[49m\u001b[43mLinkTextNotFoundException\u001b[49m\u001b[43m,\u001b[49m\u001b[43m \u001b[49m\u001b[43mmessage\u001b[49m\u001b[43m)\u001b[49m\n\u001b[0;32m    933\u001b[0m \u001b[38;5;28;01melif\u001b[39;00m \u001b[38;5;129;01mnot\u001b[39;00m element \u001b[38;5;129;01mand\u001b[39;00m by \u001b[38;5;241m==\u001b[39m \u001b[38;5;124m\"\u001b[39m\u001b[38;5;124mlink text\u001b[39m\u001b[38;5;124m\"\u001b[39m \u001b[38;5;129;01mand\u001b[39;00m is_visible:\n\u001b[0;32m    934\u001b[0m     message \u001b[38;5;241m=\u001b[39m \u001b[38;5;124m\"\u001b[39m\u001b[38;5;124mLink text \u001b[39m\u001b[38;5;124m{\u001b[39m\u001b[38;5;132;01m%s\u001b[39;00m\u001b[38;5;124m} was not clickable after \u001b[39m\u001b[38;5;132;01m%s\u001b[39;00m\u001b[38;5;124m second\u001b[39m\u001b[38;5;132;01m%s\u001b[39;00m\u001b[38;5;124m!\u001b[39m\u001b[38;5;124m\"\u001b[39m \u001b[38;5;241m%\u001b[39m (\n\u001b[0;32m    935\u001b[0m         selector,\n\u001b[0;32m    936\u001b[0m         timeout,\n\u001b[0;32m    937\u001b[0m         plural,\n\u001b[0;32m    938\u001b[0m     )\n",
      "File \u001b[1;32m~\\PycharmProjects\\appstore-automation\\.venv\\lib\\site-packages\\seleniumbase\\fixtures\\page_actions.py:267\u001b[0m, in \u001b[0;36mtimeout_exception\u001b[1;34m(exception, message)\u001b[0m\n\u001b[0;32m    265\u001b[0m \u001b[38;5;28;01mdef\u001b[39;00m\u001b[38;5;250m \u001b[39m\u001b[38;5;21mtimeout_exception\u001b[39m(exception, message):\n\u001b[0;32m    266\u001b[0m     exc, msg \u001b[38;5;241m=\u001b[39m shared_utils\u001b[38;5;241m.\u001b[39mformat_exc(exception, message)\n\u001b[1;32m--> 267\u001b[0m     \u001b[38;5;28;01mraise\u001b[39;00m exc(msg)\n",
      "\u001b[1;31mLinkTextNotFoundException\u001b[0m: \n Link text {Create Developer Account} was not found after 7 seconds!"
     ]
    }
   ],
   "source": [
    "home_page.load_page()\n",
    "home_page.get_signup_page()"
   ]
  },
  {
   "cell_type": "code",
   "execution_count": 88,
   "id": "1181de53-4833-45f8-903c-dfbf1b4c086d",
   "metadata": {},
   "outputs": [
    {
     "data": {
      "text/plain": [
       "[]"
      ]
     },
     "execution_count": 88,
     "metadata": {},
     "output_type": "execute_result"
    }
   ],
   "source": [
    "home_page.driver.find_elements(By.TAG_NAME, \"a\")"
   ]
  },
  {
   "cell_type": "code",
   "execution_count": 90,
   "id": "fd175552-6ef2-4eaf-9254-66cbd048a822",
   "metadata": {},
   "outputs": [
    {
     "name": "stderr",
     "output_type": "stream",
     "text": [
      "C:\\Users\\Anon\\PycharmProjects\\appstore-automation\\.venv\\lib\\site-packages\\selenium\\webdriver\\remote\\webdriver.py:843: UserWarning: name used for saved screenshot does not match file type. It should end with a `.png` extension\n",
      "  return self.get_screenshot_as_file(filename)\n"
     ]
    },
    {
     "ename": "TimeoutException",
     "evalue": "Message: timeout: Timed out receiving message from renderer: 10.000\n  (Session info: chrome=133.0.6943.127)\nStacktrace:\n\tGetHandleVerifier [0x00007FF64E086F15+28773]\n\t(No symbol) [0x00007FF64DFF2600]\n\t(No symbol) [0x00007FF64DE88FAA]\n\t(No symbol) [0x00007FF64DE7646C]\n\t(No symbol) [0x00007FF64DE7615A]\n\t(No symbol) [0x00007FF64DE73CEE]\n\t(No symbol) [0x00007FF64DE747AF]\n\t(No symbol) [0x00007FF64DE99E10]\n\t(No symbol) [0x00007FF64DF3F0B9]\n\t(No symbol) [0x00007FF64DF0724A]\n\t(No symbol) [0x00007FF64DF2F6F3]\n\t(No symbol) [0x00007FF64DF07023]\n\t(No symbol) [0x00007FF64DECFF5E]\n\t(No symbol) [0x00007FF64DED11E3]\n\tGetHandleVerifier [0x00007FF64E3D425D+3490733]\n\tGetHandleVerifier [0x00007FF64E3EBA43+3586963]\n\tGetHandleVerifier [0x00007FF64E3E147D+3544525]\n\tGetHandleVerifier [0x00007FF64E14C9DA+838442]\n\t(No symbol) [0x00007FF64DFFD04F]\n\t(No symbol) [0x00007FF64DFF9614]\n\t(No symbol) [0x00007FF64DFF97B6]\n\t(No symbol) [0x00007FF64DFE8CE9]\n\tBaseThreadInitThunk [0x00007FFF65E255A0+16]\n\tRtlUserThreadStart [0x00007FFF66CC485B+43]\n",
     "output_type": "error",
     "traceback": [
      "\u001b[1;31m---------------------------------------------------------------------------\u001b[0m",
      "\u001b[1;31mTimeoutException\u001b[0m                          Traceback (most recent call last)",
      "Cell \u001b[1;32mIn[90], line 1\u001b[0m\n\u001b[1;32m----> 1\u001b[0m \u001b[43mhome_page\u001b[49m\u001b[38;5;241;43m.\u001b[39;49m\u001b[43mdriver\u001b[49m\u001b[38;5;241;43m.\u001b[39;49m\u001b[43msave_screenshot\u001b[49m\u001b[43m(\u001b[49m\u001b[38;5;124;43m\"\u001b[39;49m\u001b[38;5;124;43mtest\u001b[39;49m\u001b[38;5;124;43m\"\u001b[39;49m\u001b[43m)\u001b[49m\n",
      "File \u001b[1;32m~\\PycharmProjects\\appstore-automation\\.venv\\lib\\site-packages\\selenium\\webdriver\\remote\\webdriver.py:843\u001b[0m, in \u001b[0;36mWebDriver.save_screenshot\u001b[1;34m(self, filename)\u001b[0m\n\u001b[0;32m    829\u001b[0m \u001b[38;5;28;01mdef\u001b[39;00m\u001b[38;5;250m \u001b[39m\u001b[38;5;21msave_screenshot\u001b[39m(\u001b[38;5;28mself\u001b[39m, filename) \u001b[38;5;241m-\u001b[39m\u001b[38;5;241m>\u001b[39m \u001b[38;5;28mbool\u001b[39m:\n\u001b[0;32m    830\u001b[0m \u001b[38;5;250m    \u001b[39m\u001b[38;5;124;03m\"\"\"Saves a screenshot of the current window to a PNG image file.\u001b[39;00m\n\u001b[0;32m    831\u001b[0m \u001b[38;5;124;03m    Returns False if there is any IOError, else returns True. Use full\u001b[39;00m\n\u001b[0;32m    832\u001b[0m \u001b[38;5;124;03m    paths in your filename.\u001b[39;00m\n\u001b[1;32m   (...)\u001b[0m\n\u001b[0;32m    841\u001b[0m \u001b[38;5;124;03m            driver.save_screenshot('/Screenshots/foo.png')\u001b[39;00m\n\u001b[0;32m    842\u001b[0m \u001b[38;5;124;03m    \"\"\"\u001b[39;00m\n\u001b[1;32m--> 843\u001b[0m     \u001b[38;5;28;01mreturn\u001b[39;00m \u001b[38;5;28;43mself\u001b[39;49m\u001b[38;5;241;43m.\u001b[39;49m\u001b[43mget_screenshot_as_file\u001b[49m\u001b[43m(\u001b[49m\u001b[43mfilename\u001b[49m\u001b[43m)\u001b[49m\n",
      "File \u001b[1;32m~\\PycharmProjects\\appstore-automation\\.venv\\lib\\site-packages\\selenium\\webdriver\\remote\\webdriver.py:819\u001b[0m, in \u001b[0;36mWebDriver.get_screenshot_as_file\u001b[1;34m(self, filename)\u001b[0m\n\u001b[0;32m    813\u001b[0m \u001b[38;5;28;01mif\u001b[39;00m \u001b[38;5;129;01mnot\u001b[39;00m \u001b[38;5;28mstr\u001b[39m(filename)\u001b[38;5;241m.\u001b[39mlower()\u001b[38;5;241m.\u001b[39mendswith(\u001b[38;5;124m\"\u001b[39m\u001b[38;5;124m.png\u001b[39m\u001b[38;5;124m\"\u001b[39m):\n\u001b[0;32m    814\u001b[0m     warnings\u001b[38;5;241m.\u001b[39mwarn(\n\u001b[0;32m    815\u001b[0m         \u001b[38;5;124m\"\u001b[39m\u001b[38;5;124mname used for saved screenshot does not match file type. It should end with a `.png` extension\u001b[39m\u001b[38;5;124m\"\u001b[39m,\n\u001b[0;32m    816\u001b[0m         \u001b[38;5;167;01mUserWarning\u001b[39;00m,\n\u001b[0;32m    817\u001b[0m         stacklevel\u001b[38;5;241m=\u001b[39m\u001b[38;5;241m2\u001b[39m,\n\u001b[0;32m    818\u001b[0m     )\n\u001b[1;32m--> 819\u001b[0m png \u001b[38;5;241m=\u001b[39m \u001b[38;5;28;43mself\u001b[39;49m\u001b[38;5;241;43m.\u001b[39;49m\u001b[43mget_screenshot_as_png\u001b[49m\u001b[43m(\u001b[49m\u001b[43m)\u001b[49m\n\u001b[0;32m    820\u001b[0m \u001b[38;5;28;01mtry\u001b[39;00m:\n\u001b[0;32m    821\u001b[0m     \u001b[38;5;28;01mwith\u001b[39;00m \u001b[38;5;28mopen\u001b[39m(filename, \u001b[38;5;124m\"\u001b[39m\u001b[38;5;124mwb\u001b[39m\u001b[38;5;124m\"\u001b[39m) \u001b[38;5;28;01mas\u001b[39;00m f:\n",
      "File \u001b[1;32m~\\PycharmProjects\\appstore-automation\\.venv\\lib\\site-packages\\selenium\\webdriver\\remote\\webdriver.py:853\u001b[0m, in \u001b[0;36mWebDriver.get_screenshot_as_png\u001b[1;34m(self)\u001b[0m\n\u001b[0;32m    845\u001b[0m \u001b[38;5;28;01mdef\u001b[39;00m\u001b[38;5;250m \u001b[39m\u001b[38;5;21mget_screenshot_as_png\u001b[39m(\u001b[38;5;28mself\u001b[39m) \u001b[38;5;241m-\u001b[39m\u001b[38;5;241m>\u001b[39m \u001b[38;5;28mbytes\u001b[39m:\n\u001b[0;32m    846\u001b[0m \u001b[38;5;250m    \u001b[39m\u001b[38;5;124;03m\"\"\"Gets the screenshot of the current window as a binary data.\u001b[39;00m\n\u001b[0;32m    847\u001b[0m \n\u001b[0;32m    848\u001b[0m \u001b[38;5;124;03m    :Usage:\u001b[39;00m\n\u001b[1;32m   (...)\u001b[0m\n\u001b[0;32m    851\u001b[0m \u001b[38;5;124;03m            driver.get_screenshot_as_png()\u001b[39;00m\n\u001b[0;32m    852\u001b[0m \u001b[38;5;124;03m    \"\"\"\u001b[39;00m\n\u001b[1;32m--> 853\u001b[0m     \u001b[38;5;28;01mreturn\u001b[39;00m b64decode(\u001b[38;5;28;43mself\u001b[39;49m\u001b[38;5;241;43m.\u001b[39;49m\u001b[43mget_screenshot_as_base64\u001b[49m\u001b[43m(\u001b[49m\u001b[43m)\u001b[49m\u001b[38;5;241m.\u001b[39mencode(\u001b[38;5;124m\"\u001b[39m\u001b[38;5;124mascii\u001b[39m\u001b[38;5;124m\"\u001b[39m))\n",
      "File \u001b[1;32m~\\PycharmProjects\\appstore-automation\\.venv\\lib\\site-packages\\selenium\\webdriver\\remote\\webdriver.py:864\u001b[0m, in \u001b[0;36mWebDriver.get_screenshot_as_base64\u001b[1;34m(self)\u001b[0m\n\u001b[0;32m    855\u001b[0m \u001b[38;5;28;01mdef\u001b[39;00m\u001b[38;5;250m \u001b[39m\u001b[38;5;21mget_screenshot_as_base64\u001b[39m(\u001b[38;5;28mself\u001b[39m) \u001b[38;5;241m-\u001b[39m\u001b[38;5;241m>\u001b[39m \u001b[38;5;28mstr\u001b[39m:\n\u001b[0;32m    856\u001b[0m \u001b[38;5;250m    \u001b[39m\u001b[38;5;124;03m\"\"\"Gets the screenshot of the current window as a base64 encoded string\u001b[39;00m\n\u001b[0;32m    857\u001b[0m \u001b[38;5;124;03m    which is useful in embedded images in HTML.\u001b[39;00m\n\u001b[0;32m    858\u001b[0m \n\u001b[1;32m   (...)\u001b[0m\n\u001b[0;32m    862\u001b[0m \u001b[38;5;124;03m            driver.get_screenshot_as_base64()\u001b[39;00m\n\u001b[0;32m    863\u001b[0m \u001b[38;5;124;03m    \"\"\"\u001b[39;00m\n\u001b[1;32m--> 864\u001b[0m     \u001b[38;5;28;01mreturn\u001b[39;00m \u001b[38;5;28;43mself\u001b[39;49m\u001b[38;5;241;43m.\u001b[39;49m\u001b[43mexecute\u001b[49m\u001b[43m(\u001b[49m\u001b[43mCommand\u001b[49m\u001b[38;5;241;43m.\u001b[39;49m\u001b[43mSCREENSHOT\u001b[49m\u001b[43m)\u001b[49m[\u001b[38;5;124m\"\u001b[39m\u001b[38;5;124mvalue\u001b[39m\u001b[38;5;124m\"\u001b[39m]\n",
      "File \u001b[1;32m~\\PycharmProjects\\appstore-automation\\.venv\\lib\\site-packages\\selenium\\webdriver\\remote\\webdriver.py:384\u001b[0m, in \u001b[0;36mWebDriver.execute\u001b[1;34m(self, driver_command, params)\u001b[0m\n\u001b[0;32m    382\u001b[0m response \u001b[38;5;241m=\u001b[39m \u001b[38;5;28mself\u001b[39m\u001b[38;5;241m.\u001b[39mcommand_executor\u001b[38;5;241m.\u001b[39mexecute(driver_command, params)\n\u001b[0;32m    383\u001b[0m \u001b[38;5;28;01mif\u001b[39;00m response:\n\u001b[1;32m--> 384\u001b[0m     \u001b[38;5;28;43mself\u001b[39;49m\u001b[38;5;241;43m.\u001b[39;49m\u001b[43merror_handler\u001b[49m\u001b[38;5;241;43m.\u001b[39;49m\u001b[43mcheck_response\u001b[49m\u001b[43m(\u001b[49m\u001b[43mresponse\u001b[49m\u001b[43m)\u001b[49m\n\u001b[0;32m    385\u001b[0m     response[\u001b[38;5;124m\"\u001b[39m\u001b[38;5;124mvalue\u001b[39m\u001b[38;5;124m\"\u001b[39m] \u001b[38;5;241m=\u001b[39m \u001b[38;5;28mself\u001b[39m\u001b[38;5;241m.\u001b[39m_unwrap_value(response\u001b[38;5;241m.\u001b[39mget(\u001b[38;5;124m\"\u001b[39m\u001b[38;5;124mvalue\u001b[39m\u001b[38;5;124m\"\u001b[39m, \u001b[38;5;28;01mNone\u001b[39;00m))\n\u001b[0;32m    386\u001b[0m     \u001b[38;5;28;01mreturn\u001b[39;00m response\n",
      "File \u001b[1;32m~\\PycharmProjects\\appstore-automation\\.venv\\lib\\site-packages\\selenium\\webdriver\\remote\\errorhandler.py:232\u001b[0m, in \u001b[0;36mErrorHandler.check_response\u001b[1;34m(self, response)\u001b[0m\n\u001b[0;32m    230\u001b[0m         alert_text \u001b[38;5;241m=\u001b[39m value[\u001b[38;5;124m\"\u001b[39m\u001b[38;5;124malert\u001b[39m\u001b[38;5;124m\"\u001b[39m]\u001b[38;5;241m.\u001b[39mget(\u001b[38;5;124m\"\u001b[39m\u001b[38;5;124mtext\u001b[39m\u001b[38;5;124m\"\u001b[39m)\n\u001b[0;32m    231\u001b[0m     \u001b[38;5;28;01mraise\u001b[39;00m exception_class(message, screen, stacktrace, alert_text)  \u001b[38;5;66;03m# type: ignore[call-arg]  # mypy is not smart enough here\u001b[39;00m\n\u001b[1;32m--> 232\u001b[0m \u001b[38;5;28;01mraise\u001b[39;00m exception_class(message, screen, stacktrace)\n",
      "\u001b[1;31mTimeoutException\u001b[0m: Message: timeout: Timed out receiving message from renderer: 10.000\n  (Session info: chrome=133.0.6943.127)\nStacktrace:\n\tGetHandleVerifier [0x00007FF64E086F15+28773]\n\t(No symbol) [0x00007FF64DFF2600]\n\t(No symbol) [0x00007FF64DE88FAA]\n\t(No symbol) [0x00007FF64DE7646C]\n\t(No symbol) [0x00007FF64DE7615A]\n\t(No symbol) [0x00007FF64DE73CEE]\n\t(No symbol) [0x00007FF64DE747AF]\n\t(No symbol) [0x00007FF64DE99E10]\n\t(No symbol) [0x00007FF64DF3F0B9]\n\t(No symbol) [0x00007FF64DF0724A]\n\t(No symbol) [0x00007FF64DF2F6F3]\n\t(No symbol) [0x00007FF64DF07023]\n\t(No symbol) [0x00007FF64DECFF5E]\n\t(No symbol) [0x00007FF64DED11E3]\n\tGetHandleVerifier [0x00007FF64E3D425D+3490733]\n\tGetHandleVerifier [0x00007FF64E3EBA43+3586963]\n\tGetHandleVerifier [0x00007FF64E3E147D+3544525]\n\tGetHandleVerifier [0x00007FF64E14C9DA+838442]\n\t(No symbol) [0x00007FF64DFFD04F]\n\t(No symbol) [0x00007FF64DFF9614]\n\t(No symbol) [0x00007FF64DFF97B6]\n\t(No symbol) [0x00007FF64DFE8CE9]\n\tBaseThreadInitThunk [0x00007FFF65E255A0+16]\n\tRtlUserThreadStart [0x00007FFF66CC485B+43]\n"
     ]
    }
   ],
   "source": [
    "home_page.driver.save_screenshot(\"test.png\")"
   ]
  },
  {
   "cell_type": "code",
   "execution_count": null,
   "id": "16899afc-f99a-44f1-82f8-122c3390b88e",
   "metadata": {},
   "outputs": [],
   "source": []
  },
  {
   "cell_type": "code",
   "execution_count": null,
   "id": "795ae22a-e498-426b-a61e-66da43e5d5f5",
   "metadata": {},
   "outputs": [],
   "source": [
    "signup_page = AmazonSignupPage(driver=self.driver)\n",
    "signup_page.fill_signup_form(\n",
    "    name=self.name, email=self.email, phone_number=self.phone_number, password=self.password,\n",
    "    country_name=self.country\n",
    ")\n"
   ]
  },
  {
   "cell_type": "code",
   "execution_count": null,
   "id": "dc4011c5-3ff0-4021-8b9c-c155ae660e92",
   "metadata": {},
   "outputs": [],
   "source": [
    "self.email"
   ]
  },
  {
   "cell_type": "code",
   "execution_count": null,
   "id": "a69f0923-e9e4-42b3-b461-77869b500fb7",
   "metadata": {},
   "outputs": [],
   "source": [
    "otp = None\n",
    "\n",
    "# try 3 times to get otp\n",
    "logger.info(f\"Waiting for email otp to arrive from amazon\")\n",
    "for retry in range(3):\n",
    "    otp = temp_mail_service.get_amazon_message()\n",
    "    # otp = online_sim.get_message_with_wait(tzid=tzid)\n",
    "    if otp is not None:\n",
    "        break\n",
    "\n",
    "    logger.info(f\"No OTP in email, Retrying again: retry count: {retry}\")\n",
    "    self.random_sleep()\n",
    "    signup_page.resend_otp()\n",
    "\n",
    "if otp is None:\n",
    "    logger.info(\"Did not receive email otp after retrying 3 times, skipping this automation\")\n",
    "signup_page.enter_otp(code=otp)"
   ]
  },
  {
   "cell_type": "code",
   "execution_count": null,
   "id": "1d3a6d7e-5be7-4990-93a4-12c5a10ba65d",
   "metadata": {},
   "outputs": [],
   "source": []
  },
  {
   "cell_type": "code",
   "execution_count": 59,
   "id": "aa41cc7e-4305-49d4-9460-64ecf93d785f",
   "metadata": {},
   "outputs": [],
   "source": [
    "# phone verification logic\n",
    "online_sim = OnlineSimService()\n",
    "tzid = online_sim.get_new_number()  # default number will be from canada\n",
    "self.phone_number = online_sim.get_number(tzid=tzid)\n"
   ]
  },
  {
   "cell_type": "code",
   "execution_count": 40,
   "id": "9d4b41b0-ab23-4e91-9bc9-ab9e4f42d43f",
   "metadata": {},
   "outputs": [
    {
     "ename": "NoSuchElementException",
     "evalue": "Message: \n Element {#ap_email} was not present after 10 seconds!\n",
     "output_type": "error",
     "traceback": [
      "\u001b[1;31m---------------------------------------------------------------------------\u001b[0m",
      "\u001b[1;31mNoSuchElementException\u001b[0m                    Traceback (most recent call last)",
      "Cell \u001b[1;32mIn[40], line 1\u001b[0m\n\u001b[1;32m----> 1\u001b[0m \u001b[43msignup_page\u001b[49m\u001b[38;5;241;43m.\u001b[39;49m\u001b[43menter_mobile_number\u001b[49m\u001b[43m(\u001b[49m\u001b[43mcountry_name\u001b[49m\u001b[38;5;241;43m=\u001b[39;49m\u001b[38;5;28;43mself\u001b[39;49m\u001b[38;5;241;43m.\u001b[39;49m\u001b[43mcountry\u001b[49m\u001b[43m,\u001b[49m\u001b[43m \u001b[49m\u001b[43mphone_number\u001b[49m\u001b[38;5;241;43m=\u001b[39;49m\u001b[38;5;28;43mself\u001b[39;49m\u001b[38;5;241;43m.\u001b[39;49m\u001b[43mphone_number\u001b[49m\u001b[43m)\u001b[49m\n\u001b[0;32m      2\u001b[0m signup_page\u001b[38;5;241m.\u001b[39msubmit_form()\n\u001b[0;32m      4\u001b[0m logger\u001b[38;5;241m.\u001b[39minfo(\u001b[38;5;124mf\u001b[39m\u001b[38;5;124m\"\u001b[39m\u001b[38;5;124mWaiting for phone otp to arrive from amazon\u001b[39m\u001b[38;5;124m\"\u001b[39m)\n",
      "File \u001b[1;32m~\\PycharmProjects\\appstore-automation\\src\\automation\\pages\\amazon_signup_page.py:52\u001b[0m, in \u001b[0;36mAmazonSignupPage.enter_mobile_number\u001b[1;34m(self, country_name, phone_number)\u001b[0m\n\u001b[0;32m     50\u001b[0m \u001b[38;5;28mself\u001b[39m\u001b[38;5;241m.\u001b[39mrandom_sleep()\n\u001b[0;32m     51\u001b[0m logger\u001b[38;5;241m.\u001b[39mdebug(\u001b[38;5;124mf\u001b[39m\u001b[38;5;124m\"\u001b[39m\u001b[38;5;124mTyping mobile number \u001b[39m\u001b[38;5;132;01m{\u001b[39;00mphone_number\u001b[38;5;132;01m}\u001b[39;00m\u001b[38;5;124m\"\u001b[39m)\n\u001b[1;32m---> 52\u001b[0m \u001b[38;5;28;43mself\u001b[39;49m\u001b[38;5;241;43m.\u001b[39;49m\u001b[43mdriver\u001b[49m\u001b[38;5;241;43m.\u001b[39;49m\u001b[43mtype\u001b[49m\u001b[43m(\u001b[49m\u001b[43mAmazonSignupPageLocators\u001b[49m\u001b[38;5;241;43m.\u001b[39;49m\u001b[43mPHONE_NUMBER_INPUT\u001b[49m\u001b[43m,\u001b[49m\u001b[43m \u001b[49m\u001b[43mphone_number\u001b[49m\u001b[43m)\u001b[49m\n\u001b[0;32m     53\u001b[0m \u001b[38;5;28mself\u001b[39m\u001b[38;5;241m.\u001b[39mrandom_sleep()\n\u001b[0;32m     54\u001b[0m logger\u001b[38;5;241m.\u001b[39mdebug(\u001b[38;5;124mf\u001b[39m\u001b[38;5;124m\"\u001b[39m\u001b[38;5;124mDone entering mobile number \u001b[39m\u001b[38;5;132;01m{\u001b[39;00mphone_number\u001b[38;5;132;01m}\u001b[39;00m\u001b[38;5;124m, selecting country \u001b[39m\u001b[38;5;132;01m{\u001b[39;00mcountry_name\u001b[38;5;132;01m}\u001b[39;00m\u001b[38;5;124m\"\u001b[39m)\n",
      "File \u001b[1;32m~\\PycharmProjects\\appstore-automation\\.venv\\lib\\site-packages\\seleniumbase\\core\\sb_driver.py:93\u001b[0m, in \u001b[0;36mDriverMethods.update_text\u001b[1;34m(self, *args, **kwargs)\u001b[0m\n\u001b[0;32m     92\u001b[0m \u001b[38;5;28;01mdef\u001b[39;00m\u001b[38;5;250m \u001b[39m\u001b[38;5;21mupdate_text\u001b[39m(\u001b[38;5;28mself\u001b[39m, \u001b[38;5;241m*\u001b[39margs, \u001b[38;5;241m*\u001b[39m\u001b[38;5;241m*\u001b[39mkwargs):\n\u001b[1;32m---> 93\u001b[0m     page_actions\u001b[38;5;241m.\u001b[39mupdate_text(\u001b[38;5;28mself\u001b[39m\u001b[38;5;241m.\u001b[39mdriver, \u001b[38;5;241m*\u001b[39margs, \u001b[38;5;241m*\u001b[39m\u001b[38;5;241m*\u001b[39mkwargs)\n",
      "File \u001b[1;32m~\\PycharmProjects\\appstore-automation\\.venv\\lib\\site-packages\\seleniumbase\\fixtures\\page_actions.py:1707\u001b[0m, in \u001b[0;36mupdate_text\u001b[1;34m(driver, selector, text, by, timeout)\u001b[0m\n\u001b[0;32m   1705\u001b[0m     driver\u001b[38;5;241m.\u001b[39mcdp\u001b[38;5;241m.\u001b[39mtype(selector, text)\n\u001b[0;32m   1706\u001b[0m     \u001b[38;5;28;01mreturn\u001b[39;00m\n\u001b[1;32m-> 1707\u001b[0m element \u001b[38;5;241m=\u001b[39m \u001b[43mwait_for_element_clickable\u001b[49m\u001b[43m(\u001b[49m\n\u001b[0;32m   1708\u001b[0m \u001b[43m    \u001b[49m\u001b[43mdriver\u001b[49m\u001b[43m,\u001b[49m\u001b[43m \u001b[49m\u001b[43mselector\u001b[49m\u001b[43m,\u001b[49m\u001b[43m \u001b[49m\u001b[43mby\u001b[49m\u001b[38;5;241;43m=\u001b[39;49m\u001b[43mby\u001b[49m\u001b[43m,\u001b[49m\u001b[43m \u001b[49m\u001b[43mtimeout\u001b[49m\u001b[38;5;241;43m=\u001b[39;49m\u001b[43mtimeout\u001b[49m\n\u001b[0;32m   1709\u001b[0m \u001b[43m\u001b[49m\u001b[43m)\u001b[49m\n\u001b[0;32m   1710\u001b[0m element\u001b[38;5;241m.\u001b[39mclear()\n\u001b[0;32m   1711\u001b[0m \u001b[38;5;28;01mif\u001b[39;00m \u001b[38;5;129;01mnot\u001b[39;00m text\u001b[38;5;241m.\u001b[39mendswith(\u001b[38;5;124m\"\u001b[39m\u001b[38;5;130;01m\\n\u001b[39;00m\u001b[38;5;124m\"\u001b[39m):\n",
      "File \u001b[1;32m~\\PycharmProjects\\appstore-automation\\.venv\\lib\\site-packages\\seleniumbase\\fixtures\\page_actions.py:910\u001b[0m, in \u001b[0;36mwait_for_element_clickable\u001b[1;34m(driver, selector, by, timeout, original_selector)\u001b[0m\n\u001b[0;32m    903\u001b[0m \u001b[38;5;28;01mif\u001b[39;00m \u001b[38;5;129;01mnot\u001b[39;00m is_present:\n\u001b[0;32m    904\u001b[0m     \u001b[38;5;66;03m# The element does not exist in the HTML\u001b[39;00m\n\u001b[0;32m    905\u001b[0m     message \u001b[38;5;241m=\u001b[39m \u001b[38;5;124m\"\u001b[39m\u001b[38;5;124mElement \u001b[39m\u001b[38;5;124m{\u001b[39m\u001b[38;5;132;01m%s\u001b[39;00m\u001b[38;5;124m} was not present after \u001b[39m\u001b[38;5;132;01m%s\u001b[39;00m\u001b[38;5;124m second\u001b[39m\u001b[38;5;132;01m%s\u001b[39;00m\u001b[38;5;124m!\u001b[39m\u001b[38;5;124m\"\u001b[39m \u001b[38;5;241m%\u001b[39m (\n\u001b[0;32m    906\u001b[0m         selector,\n\u001b[0;32m    907\u001b[0m         timeout,\n\u001b[0;32m    908\u001b[0m         plural,\n\u001b[0;32m    909\u001b[0m     )\n\u001b[1;32m--> 910\u001b[0m     \u001b[43mtimeout_exception\u001b[49m\u001b[43m(\u001b[49m\u001b[43mNoSuchElementException\u001b[49m\u001b[43m,\u001b[49m\u001b[43m \u001b[49m\u001b[43mmessage\u001b[49m\u001b[43m)\u001b[49m\n\u001b[0;32m    911\u001b[0m \u001b[38;5;28;01mif\u001b[39;00m \u001b[38;5;129;01mnot\u001b[39;00m is_visible:\n\u001b[0;32m    912\u001b[0m     \u001b[38;5;66;03m# The element exists in the HTML, but is not visible\u001b[39;00m\n\u001b[0;32m    913\u001b[0m     message \u001b[38;5;241m=\u001b[39m \u001b[38;5;124m\"\u001b[39m\u001b[38;5;124mElement \u001b[39m\u001b[38;5;124m{\u001b[39m\u001b[38;5;132;01m%s\u001b[39;00m\u001b[38;5;124m} was not visible after \u001b[39m\u001b[38;5;132;01m%s\u001b[39;00m\u001b[38;5;124m second\u001b[39m\u001b[38;5;132;01m%s\u001b[39;00m\u001b[38;5;124m!\u001b[39m\u001b[38;5;124m\"\u001b[39m \u001b[38;5;241m%\u001b[39m (\n\u001b[0;32m    914\u001b[0m         selector,\n\u001b[0;32m    915\u001b[0m         timeout,\n\u001b[0;32m    916\u001b[0m         plural,\n\u001b[0;32m    917\u001b[0m     )\n",
      "File \u001b[1;32m~\\PycharmProjects\\appstore-automation\\.venv\\lib\\site-packages\\seleniumbase\\fixtures\\page_actions.py:267\u001b[0m, in \u001b[0;36mtimeout_exception\u001b[1;34m(exception, message)\u001b[0m\n\u001b[0;32m    265\u001b[0m \u001b[38;5;28;01mdef\u001b[39;00m\u001b[38;5;250m \u001b[39m\u001b[38;5;21mtimeout_exception\u001b[39m(exception, message):\n\u001b[0;32m    266\u001b[0m     exc, msg \u001b[38;5;241m=\u001b[39m shared_utils\u001b[38;5;241m.\u001b[39mformat_exc(exception, message)\n\u001b[1;32m--> 267\u001b[0m     \u001b[38;5;28;01mraise\u001b[39;00m exc(msg)\n",
      "\u001b[1;31mNoSuchElementException\u001b[0m: Message: \n Element {#ap_email} was not present after 10 seconds!\n"
     ]
    }
   ],
   "source": [
    "signup_page.enter_mobile_number(country_name=self.country, phone_number=self.phone_number)\n",
    "signup_page.submit_form()\n",
    "\n",
    "logger.info(f\"Waiting for phone otp to arrive from amazon\")\n",
    "for retry in range(3):\n",
    "    otp = online_sim.get_message_with_wait(tzid=tzid)\n",
    "    if otp is not None:\n",
    "        break\n",
    "\n",
    "    logger.info(f\"No OTP in phone, Retrying again: retry count: {retry}\")\n",
    "    self.random_sleep()\n",
    "    signup_page.resend_otp()\n",
    "\n",
    "if otp is None:\n",
    "    logger.info(\"Did not receive email otp after retrying 3 times, skipping this automation\")\n",
    "    return\n",
    "\n",
    "signup_page.enter_otp(code=otp)"
   ]
  },
  {
   "cell_type": "code",
   "execution_count": 44,
   "id": "bd498827-6568-4f99-89a4-c704743dfd00",
   "metadata": {},
   "outputs": [],
   "source": [
    "# self.driver.refresh()\n"
   ]
  },
  {
   "cell_type": "code",
   "execution_count": 60,
   "id": "7021784a-815b-4767-8b21-3a4564c82d07",
   "metadata": {},
   "outputs": [],
   "source": [
    "from selenium.webdriver.common.by import By\n",
    "\n",
    "country_name = \"canada\"\n",
    "self.driver.click('//span[@class=\"a-button-text a-declarative\"]', \"xpath\")\n",
    "country_dropdown = self.driver.find_elements(By.TAG_NAME, \"a\")\n",
    "for element in country_dropdown:\n",
    "    if element.text and country_name.lower() in element.text.lower():\n",
    "        element.click()\n",
    "        logger.debug(f\"Selected country {country_name} from phone dropdown\")\n",
    "        break\n"
   ]
  },
  {
   "cell_type": "code",
   "execution_count": 61,
   "id": "7e0d149d-0381-4225-b23d-427c5b270676",
   "metadata": {},
   "outputs": [],
   "source": [
    "phone_number = self.phone_number\n",
    "\n",
    "class AmazonSignupPageLocators:\n",
    "    NEW_ACCOUNT_BTN = \"#createAccountSubmit\"\n",
    "    EMAIL_INPUT = \"#ap_email\"\n",
    "    USERNAME_INPUT = \"#ap_customer_name\"\n",
    "    PASSWORD_INPUT = \"#ap_password\"\n",
    "    PASSWORD_CHECK_INPUT = \"#ap_password_check\"\n",
    "    PHONE_NUMBER_INPUT = \"#cvfPhoneNumber\"\n",
    "    COUNTRY_DROPDOWN = \"//span[@class='a-button-text a-declarative']\"\n",
    "    SUBMIT_BUTTON = \"#continue\"\n",
    "    VERIFICATION_CODE_INPUT = \"#cvf-input-code\"\n",
    "    SUBMIT_VERIFICATION = \"//input[@aria-label='Verify OTP Button']\"\n",
    "    RESEND_VERIFICATION = \"cvf-resend-link\"\n",
    "    EXISTING_ACCOUNT_MSG = \"//h4[text()='Mobile number already in use']\"\n",
    "\n",
    "self.driver.type(AmazonSignupPageLocators.PHONE_NUMBER_INPUT, phone_number)"
   ]
  },
  {
   "cell_type": "code",
   "execution_count": 62,
   "id": "d7115716-fba0-4859-87a2-2f18236a6ae5",
   "metadata": {},
   "outputs": [],
   "source": [
    "self.driver.click(\"//input[@type='submit']\", \"xpath\")"
   ]
  },
  {
   "cell_type": "code",
   "execution_count": 65,
   "id": "879a9d1e-e2fa-4fef-8e99-d1a540cb0f10",
   "metadata": {},
   "outputs": [
    {
     "name": "stderr",
     "output_type": "stream",
     "text": [
      "2025-02-25 23:55:00,912 - INFO - Waiting for phone otp to arrive from amazon\n",
      "2025-02-25 23:55:29,989 - INFO - Did not receive otp in 30 seconds\n",
      "2025-02-25 23:55:29,998 - INFO - No OTP in phone, Retrying again: retry count: 0\n"
     ]
    },
    {
     "ename": "NoSuchElementException",
     "evalue": "Message: no such element: Unable to locate element: {\"method\":\"css selector\",\"selector\":\"[id=\"cvf-resend-link\"]\"}\n  (Session info: chrome=133.0.6943.127); For documentation on this error, please visit: https://www.selenium.dev/documentation/webdriver/troubleshooting/errors#no-such-element-exception\nStacktrace:\n\tGetHandleVerifier [0x00007FF64E086F15+28773]\n\t(No symbol) [0x00007FF64DFF2600]\n\t(No symbol) [0x00007FF64DE88FAA]\n\t(No symbol) [0x00007FF64DEDF286]\n\t(No symbol) [0x00007FF64DEDF4BC]\n\t(No symbol) [0x00007FF64DF32A27]\n\t(No symbol) [0x00007FF64DF0728F]\n\t(No symbol) [0x00007FF64DF2F6F3]\n\t(No symbol) [0x00007FF64DF07023]\n\t(No symbol) [0x00007FF64DECFF5E]\n\t(No symbol) [0x00007FF64DED11E3]\n\tGetHandleVerifier [0x00007FF64E3D425D+3490733]\n\tGetHandleVerifier [0x00007FF64E3EBA43+3586963]\n\tGetHandleVerifier [0x00007FF64E3E147D+3544525]\n\tGetHandleVerifier [0x00007FF64E14C9DA+838442]\n\t(No symbol) [0x00007FF64DFFD04F]\n\t(No symbol) [0x00007FF64DFF9614]\n\t(No symbol) [0x00007FF64DFF97B6]\n\t(No symbol) [0x00007FF64DFE8CE9]\n\tBaseThreadInitThunk [0x00007FFF65E255A0+16]\n\tRtlUserThreadStart [0x00007FFF66CC485B+43]\n",
     "output_type": "error",
     "traceback": [
      "\u001b[1;31m---------------------------------------------------------------------------\u001b[0m",
      "\u001b[1;31mNoSuchElementException\u001b[0m                    Traceback (most recent call last)",
      "Cell \u001b[1;32mIn[65], line 9\u001b[0m\n\u001b[0;32m      7\u001b[0m     logger\u001b[38;5;241m.\u001b[39minfo(\u001b[38;5;124mf\u001b[39m\u001b[38;5;124m\"\u001b[39m\u001b[38;5;124mNo OTP in phone, Retrying again: retry count: \u001b[39m\u001b[38;5;132;01m{\u001b[39;00mretry\u001b[38;5;132;01m}\u001b[39;00m\u001b[38;5;124m\"\u001b[39m)\n\u001b[0;32m      8\u001b[0m     \u001b[38;5;28mself\u001b[39m\u001b[38;5;241m.\u001b[39mrandom_sleep()\n\u001b[1;32m----> 9\u001b[0m     \u001b[43msignup_page\u001b[49m\u001b[38;5;241;43m.\u001b[39;49m\u001b[43mresend_otp\u001b[49m\u001b[43m(\u001b[49m\u001b[43m)\u001b[49m\n\u001b[0;32m     11\u001b[0m \u001b[38;5;28;01mif\u001b[39;00m otp \u001b[38;5;129;01mis\u001b[39;00m \u001b[38;5;28;01mNone\u001b[39;00m:\n\u001b[0;32m     12\u001b[0m     logger\u001b[38;5;241m.\u001b[39minfo(\u001b[38;5;124m\"\u001b[39m\u001b[38;5;124mDid not receive email otp after retrying 3 times, skipping this automation\u001b[39m\u001b[38;5;124m\"\u001b[39m)\n",
      "File \u001b[1;32m~\\PycharmProjects\\appstore-automation\\src\\automation\\pages\\amazon_signup_page.py:97\u001b[0m, in \u001b[0;36mresend_otp\u001b[1;34m(self)\u001b[0m\n\u001b[0;32m     95\u001b[0m \u001b[38;5;28mself\u001b[39m\u001b[38;5;241m.\u001b[39mrandom_sleep()\n\u001b[0;32m     96\u001b[0m logger\u001b[38;5;241m.\u001b[39minfo(\u001b[38;5;124mf\u001b[39m\u001b[38;5;124m\"\u001b[39m\u001b[38;5;124mEntering verification code\u001b[39m\u001b[38;5;124m\"\u001b[39m)\n\u001b[1;32m---> 97\u001b[0m \u001b[38;5;28mself\u001b[39m\u001b[38;5;241m.\u001b[39mdriver\u001b[38;5;241m.\u001b[39mtype(AmazonSignupPageLocators\u001b[38;5;241m.\u001b[39mVERIFICATION_CODE_INPUT, code)\n\u001b[0;32m     98\u001b[0m \u001b[38;5;28mself\u001b[39m\u001b[38;5;241m.\u001b[39mrandom_sleep()\n\u001b[0;32m     99\u001b[0m \u001b[38;5;28mself\u001b[39m\u001b[38;5;241m.\u001b[39mdriver\u001b[38;5;241m.\u001b[39mfind_element(By\u001b[38;5;241m.\u001b[39mXPATH, AmazonSignupPageLocators\u001b[38;5;241m.\u001b[39mSUBMIT_VERIFICATION)\u001b[38;5;241m.\u001b[39mclick()\n",
      "File \u001b[1;32m~\\PycharmProjects\\appstore-automation\\.venv\\lib\\site-packages\\seleniumbase\\core\\sb_driver.py:27\u001b[0m, in \u001b[0;36mDriverMethods.find_element\u001b[1;34m(self, by, value)\u001b[0m\n\u001b[0;32m     25\u001b[0m \u001b[38;5;28;01melse\u001b[39;00m:\n\u001b[0;32m     26\u001b[0m     value, by \u001b[38;5;241m=\u001b[39m page_utils\u001b[38;5;241m.\u001b[39mswap_selector_and_by_if_reversed(value, by)\n\u001b[1;32m---> 27\u001b[0m \u001b[38;5;28;01mreturn\u001b[39;00m \u001b[38;5;28;43mself\u001b[39;49m\u001b[38;5;241;43m.\u001b[39;49m\u001b[43mdriver\u001b[49m\u001b[38;5;241;43m.\u001b[39;49m\u001b[43mdefault_find_element\u001b[49m\u001b[43m(\u001b[49m\u001b[43mby\u001b[49m\u001b[38;5;241;43m=\u001b[39;49m\u001b[43mby\u001b[49m\u001b[43m,\u001b[49m\u001b[43m \u001b[49m\u001b[43mvalue\u001b[49m\u001b[38;5;241;43m=\u001b[39;49m\u001b[43mvalue\u001b[49m\u001b[43m)\u001b[49m\n",
      "File \u001b[1;32m~\\PycharmProjects\\appstore-automation\\.venv\\lib\\site-packages\\selenium\\webdriver\\remote\\webdriver.py:770\u001b[0m, in \u001b[0;36mWebDriver.find_element\u001b[1;34m(self, by, value)\u001b[0m\n\u001b[0;32m    767\u001b[0m         \u001b[38;5;28;01mraise\u001b[39;00m NoSuchElementException(\u001b[38;5;124mf\u001b[39m\u001b[38;5;124m\"\u001b[39m\u001b[38;5;124mCannot locate relative element with: \u001b[39m\u001b[38;5;132;01m{\u001b[39;00mby\u001b[38;5;241m.\u001b[39mroot\u001b[38;5;132;01m}\u001b[39;00m\u001b[38;5;124m\"\u001b[39m)\n\u001b[0;32m    768\u001b[0m     \u001b[38;5;28;01mreturn\u001b[39;00m elements[\u001b[38;5;241m0\u001b[39m]\n\u001b[1;32m--> 770\u001b[0m \u001b[38;5;28;01mreturn\u001b[39;00m \u001b[38;5;28;43mself\u001b[39;49m\u001b[38;5;241;43m.\u001b[39;49m\u001b[43mexecute\u001b[49m\u001b[43m(\u001b[49m\u001b[43mCommand\u001b[49m\u001b[38;5;241;43m.\u001b[39;49m\u001b[43mFIND_ELEMENT\u001b[49m\u001b[43m,\u001b[49m\u001b[43m \u001b[49m\u001b[43m{\u001b[49m\u001b[38;5;124;43m\"\u001b[39;49m\u001b[38;5;124;43musing\u001b[39;49m\u001b[38;5;124;43m\"\u001b[39;49m\u001b[43m:\u001b[49m\u001b[43m \u001b[49m\u001b[43mby\u001b[49m\u001b[43m,\u001b[49m\u001b[43m \u001b[49m\u001b[38;5;124;43m\"\u001b[39;49m\u001b[38;5;124;43mvalue\u001b[39;49m\u001b[38;5;124;43m\"\u001b[39;49m\u001b[43m:\u001b[49m\u001b[43m \u001b[49m\u001b[43mvalue\u001b[49m\u001b[43m}\u001b[49m\u001b[43m)\u001b[49m[\u001b[38;5;124m\"\u001b[39m\u001b[38;5;124mvalue\u001b[39m\u001b[38;5;124m\"\u001b[39m]\n",
      "File \u001b[1;32m~\\PycharmProjects\\appstore-automation\\.venv\\lib\\site-packages\\selenium\\webdriver\\remote\\webdriver.py:384\u001b[0m, in \u001b[0;36mWebDriver.execute\u001b[1;34m(self, driver_command, params)\u001b[0m\n\u001b[0;32m    382\u001b[0m response \u001b[38;5;241m=\u001b[39m \u001b[38;5;28mself\u001b[39m\u001b[38;5;241m.\u001b[39mcommand_executor\u001b[38;5;241m.\u001b[39mexecute(driver_command, params)\n\u001b[0;32m    383\u001b[0m \u001b[38;5;28;01mif\u001b[39;00m response:\n\u001b[1;32m--> 384\u001b[0m     \u001b[38;5;28;43mself\u001b[39;49m\u001b[38;5;241;43m.\u001b[39;49m\u001b[43merror_handler\u001b[49m\u001b[38;5;241;43m.\u001b[39;49m\u001b[43mcheck_response\u001b[49m\u001b[43m(\u001b[49m\u001b[43mresponse\u001b[49m\u001b[43m)\u001b[49m\n\u001b[0;32m    385\u001b[0m     response[\u001b[38;5;124m\"\u001b[39m\u001b[38;5;124mvalue\u001b[39m\u001b[38;5;124m\"\u001b[39m] \u001b[38;5;241m=\u001b[39m \u001b[38;5;28mself\u001b[39m\u001b[38;5;241m.\u001b[39m_unwrap_value(response\u001b[38;5;241m.\u001b[39mget(\u001b[38;5;124m\"\u001b[39m\u001b[38;5;124mvalue\u001b[39m\u001b[38;5;124m\"\u001b[39m, \u001b[38;5;28;01mNone\u001b[39;00m))\n\u001b[0;32m    386\u001b[0m     \u001b[38;5;28;01mreturn\u001b[39;00m response\n",
      "File \u001b[1;32m~\\PycharmProjects\\appstore-automation\\.venv\\lib\\site-packages\\selenium\\webdriver\\remote\\errorhandler.py:232\u001b[0m, in \u001b[0;36mErrorHandler.check_response\u001b[1;34m(self, response)\u001b[0m\n\u001b[0;32m    230\u001b[0m         alert_text \u001b[38;5;241m=\u001b[39m value[\u001b[38;5;124m\"\u001b[39m\u001b[38;5;124malert\u001b[39m\u001b[38;5;124m\"\u001b[39m]\u001b[38;5;241m.\u001b[39mget(\u001b[38;5;124m\"\u001b[39m\u001b[38;5;124mtext\u001b[39m\u001b[38;5;124m\"\u001b[39m)\n\u001b[0;32m    231\u001b[0m     \u001b[38;5;28;01mraise\u001b[39;00m exception_class(message, screen, stacktrace, alert_text)  \u001b[38;5;66;03m# type: ignore[call-arg]  # mypy is not smart enough here\u001b[39;00m\n\u001b[1;32m--> 232\u001b[0m \u001b[38;5;28;01mraise\u001b[39;00m exception_class(message, screen, stacktrace)\n",
      "\u001b[1;31mNoSuchElementException\u001b[0m: Message: no such element: Unable to locate element: {\"method\":\"css selector\",\"selector\":\"[id=\"cvf-resend-link\"]\"}\n  (Session info: chrome=133.0.6943.127); For documentation on this error, please visit: https://www.selenium.dev/documentation/webdriver/troubleshooting/errors#no-such-element-exception\nStacktrace:\n\tGetHandleVerifier [0x00007FF64E086F15+28773]\n\t(No symbol) [0x00007FF64DFF2600]\n\t(No symbol) [0x00007FF64DE88FAA]\n\t(No symbol) [0x00007FF64DEDF286]\n\t(No symbol) [0x00007FF64DEDF4BC]\n\t(No symbol) [0x00007FF64DF32A27]\n\t(No symbol) [0x00007FF64DF0728F]\n\t(No symbol) [0x00007FF64DF2F6F3]\n\t(No symbol) [0x00007FF64DF07023]\n\t(No symbol) [0x00007FF64DECFF5E]\n\t(No symbol) [0x00007FF64DED11E3]\n\tGetHandleVerifier [0x00007FF64E3D425D+3490733]\n\tGetHandleVerifier [0x00007FF64E3EBA43+3586963]\n\tGetHandleVerifier [0x00007FF64E3E147D+3544525]\n\tGetHandleVerifier [0x00007FF64E14C9DA+838442]\n\t(No symbol) [0x00007FF64DFFD04F]\n\t(No symbol) [0x00007FF64DFF9614]\n\t(No symbol) [0x00007FF64DFF97B6]\n\t(No symbol) [0x00007FF64DFE8CE9]\n\tBaseThreadInitThunk [0x00007FFF65E255A0+16]\n\tRtlUserThreadStart [0x00007FFF66CC485B+43]\n"
     ]
    }
   ],
   "source": [
    "\n",
    "logger.info(f\"Waiting for phone otp to arrive from amazon\")\n",
    "for retry in range(3):\n",
    "    otp = online_sim.get_message_with_wait(tzid=tzid)\n",
    "    if otp is not None:\n",
    "        break\n",
    "\n",
    "    logger.info(f\"No OTP in phone, Retrying again: retry count: {retry}\")\n",
    "    self.random_sleep()\n",
    "    signup_page.resend_otp()\n",
    "\n",
    "if otp is None:\n",
    "    logger.info(\"Did not receive email otp after retrying 3 times, skipping this automation\")\n",
    "    return\n",
    "\n",
    "signup_page.enter_otp(code=otp)\n",
    "self.random_sleep()\n",
    "signup_page.submit_form()\n"
   ]
  },
  {
   "cell_type": "code",
   "execution_count": 35,
   "id": "c65eb0b2-bf5a-4da6-a0ed-5496f851228c",
   "metadata": {},
   "outputs": [
    {
     "data": {
      "text/plain": [
       "'253425'"
      ]
     },
     "execution_count": 35,
     "metadata": {},
     "output_type": "execute_result"
    }
   ],
   "source": []
  },
  {
   "cell_type": "code",
   "execution_count": null,
   "id": "8e982589-99b2-449c-a537-ddf5352eb914",
   "metadata": {},
   "outputs": [],
   "source": []
  }
 ],
 "metadata": {
  "kernelspec": {
   "display_name": "Python 3 (ipykernel)",
   "language": "python",
   "name": "python3"
  },
  "language_info": {
   "codemirror_mode": {
    "name": "ipython",
    "version": 3
   },
   "file_extension": ".py",
   "mimetype": "text/x-python",
   "name": "python",
   "nbconvert_exporter": "python",
   "pygments_lexer": "ipython3",
   "version": "3.10.11"
  }
 },
 "nbformat": 4,
 "nbformat_minor": 5
}
